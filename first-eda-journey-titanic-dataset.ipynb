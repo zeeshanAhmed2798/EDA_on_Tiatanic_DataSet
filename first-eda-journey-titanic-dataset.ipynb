{
 "cells": [
  {
   "cell_type": "markdown",
   "id": "26c17ac9",
   "metadata": {
    "papermill": {
     "duration": 0.033878,
     "end_time": "2024-06-30T15:56:54.823077",
     "exception": false,
     "start_time": "2024-06-30T15:56:54.789199",
     "status": "completed"
    },
    "tags": []
   },
   "source": [
    "<div style=\"text-align: center;\">\n",
    "    <h2 style=\"color: #007BFF;\">Exploratory Data Analysis of the Titanic Dataset</h2>\n",
    "</div>\n"
   ]
  },
  {
   "cell_type": "markdown",
   "id": "09eee16d",
   "metadata": {
    "papermill": {
     "duration": 0.033183,
     "end_time": "2024-06-30T15:56:54.888061",
     "exception": false,
     "start_time": "2024-06-30T15:56:54.854878",
     "status": "completed"
    },
    "tags": []
   },
   "source": [
    "<div style=\"text-align: center;\">\n",
    "   <h2 style=\"color: #007BFF;\">My Introduction</h2>\n",
    "</div>\n",
    "\n",
    "👋 Greetings, all! I'm Zeeshan Ahmad, a aspiring data enthusiast with a keen interest in exploring machine learning techniques. This is my first EDA project, and I am excited to share my insights and learnings from analyzing the Titanic dataset.\n"
   ]
  },
  {
   "cell_type": "markdown",
   "id": "f7501f78",
   "metadata": {
    "papermill": {
     "duration": 0.036788,
     "end_time": "2024-06-30T15:56:54.960106",
     "exception": false,
     "start_time": "2024-06-30T15:56:54.923318",
     "status": "completed"
    },
    "tags": []
   },
   "source": [
    "<div style=\"text-align: left;\">\n",
    "   <h2 style=\"color: #007BFF;\">Connect with Me</h2>\n",
    "</div>\n",
    "<div style=\"text-align: center; margin-top: 20px; margin-bottom: 20px;\">\n",
    "    <a href=\"https://www.linkedin.com/in/zeeshan--ahmed\" rel=\"noreferrer nofollow\" style=\"margin: 0px 10px;\">\n",
    "        <img src=\"https://img.shields.io/badge/LinkedIn-Profile-blue?style=for-the-badge&logo=linkedin\" alt=\"LinkedIn\">\n",
    "    </a>\n",
    "    <br>\n",
    "    <a href=\"https://www.kaggle.com/zeeshanahmad124586\" rel=\"noreferrer nofollow\" style=\"margin: 0px 10px;\">\n",
    "        <img src=\"https://img.shields.io/badge/Kaggle-Profile-blue?style=for-the-badge&logo=kaggle\" alt=\"Kaggle\">\n",
    "    </a>\n",
    "    <br>\n",
    "    <a href=\"https://github.com/zeeshanAhmed2798\" rel=\"noreferrer nofollow\" style=\"margin: 0px 10px;\">\n",
    "        <img src=\"https://img.shields.io/badge/GitHub-Profile-blue?style=for-the-badge&logo=github\" alt=\"GitHub\">\n",
    "    </a>\n",
    "</div>\n",
    "\n"
   ]
  },
  {
   "cell_type": "markdown",
   "id": "0d4c90b8",
   "metadata": {
    "papermill": {
     "duration": 0.033449,
     "end_time": "2024-06-30T15:56:55.029209",
     "exception": false,
     "start_time": "2024-06-30T15:56:54.995760",
     "status": "completed"
    },
    "tags": []
   },
   "source": [
    "<div style=\"text-align: left;\">\n",
    "    <h3 style=\"color: #007BFF;\">Data description</h3>\n",
    "</div>\n",
    "\n",
    "The Titanic dataset consists of two parts: the training set with 891 passengers, including details such as their demographics, ticket information, and whether they survived, and the test set with 418 passengers, where the survival status is hidden for prediction purposes. The training dataset will be used to build a model to predict the survival of passengers in the test dataset based on similar attributes. \n"
   ]
  },
  {
   "cell_type": "code",
   "execution_count": 2,
   "id": "82b6f2be",
   "metadata": {
    "execution": {
     "iopub.execute_input": "2024-06-30T15:56:55.095205Z",
     "iopub.status.busy": "2024-06-30T15:56:55.094583Z",
     "iopub.status.idle": "2024-06-30T15:56:55.135931Z",
     "shell.execute_reply": "2024-06-30T15:56:55.134446Z"
    },
    "papermill": {
     "duration": 0.078631,
     "end_time": "2024-06-30T15:56:55.139725",
     "exception": false,
     "start_time": "2024-06-30T15:56:55.061094",
     "status": "completed"
    },
    "tags": []
   },
   "outputs": [],
   "source": [
    "import numpy as np # linear algebra\n",
    "import pandas as pd # data processing, CSV file I/O (e.g. pd.read_csv)\n",
    "import seaborn as sns\n",
    "import matplotlib.pyplot as plt"
   ]
  },
  {
   "cell_type": "code",
   "execution_count": null,
   "id": "77d36a05",
   "metadata": {},
   "outputs": [],
   "source": [
    "trainDf=pd.read_csv(\"/kaggle/input/titanic/train.csv\")\n",
    "testDf=pd.read_csv(\"/kaggle/input/titanic/test.csv\")"
   ]
  },
  {
   "cell_type": "code",
   "execution_count": 3,
   "id": "1d11f34e",
   "metadata": {
    "execution": {
     "iopub.execute_input": "2024-06-30T15:56:55.214885Z",
     "iopub.status.busy": "2024-06-30T15:56:55.214382Z",
     "iopub.status.idle": "2024-06-30T15:56:55.252389Z",
     "shell.execute_reply": "2024-06-30T15:56:55.250401Z"
    },
    "papermill": {
     "duration": 0.078954,
     "end_time": "2024-06-30T15:56:55.255501",
     "exception": false,
     "start_time": "2024-06-30T15:56:55.176547",
     "status": "completed"
    },
    "tags": []
   },
   "outputs": [
    {
     "data": {
      "text/html": [
       "<div>\n",
       "<style scoped>\n",
       "    .dataframe tbody tr th:only-of-type {\n",
       "        vertical-align: middle;\n",
       "    }\n",
       "\n",
       "    .dataframe tbody tr th {\n",
       "        vertical-align: top;\n",
       "    }\n",
       "\n",
       "    .dataframe thead th {\n",
       "        text-align: right;\n",
       "    }\n",
       "</style>\n",
       "<table border=\"1\" class=\"dataframe\">\n",
       "  <thead>\n",
       "    <tr style=\"text-align: right;\">\n",
       "      <th></th>\n",
       "      <th>PassengerId</th>\n",
       "      <th>Survived</th>\n",
       "      <th>Pclass</th>\n",
       "      <th>Name</th>\n",
       "      <th>Sex</th>\n",
       "      <th>Age</th>\n",
       "      <th>SibSp</th>\n",
       "      <th>Parch</th>\n",
       "      <th>Ticket</th>\n",
       "      <th>Fare</th>\n",
       "      <th>Cabin</th>\n",
       "      <th>Embarked</th>\n",
       "    </tr>\n",
       "  </thead>\n",
       "  <tbody>\n",
       "    <tr>\n",
       "      <th>0</th>\n",
       "      <td>1</td>\n",
       "      <td>0</td>\n",
       "      <td>3</td>\n",
       "      <td>Braund, Mr. Owen Harris</td>\n",
       "      <td>male</td>\n",
       "      <td>22.0</td>\n",
       "      <td>1</td>\n",
       "      <td>0</td>\n",
       "      <td>A/5 21171</td>\n",
       "      <td>7.2500</td>\n",
       "      <td>NaN</td>\n",
       "      <td>S</td>\n",
       "    </tr>\n",
       "    <tr>\n",
       "      <th>1</th>\n",
       "      <td>2</td>\n",
       "      <td>1</td>\n",
       "      <td>1</td>\n",
       "      <td>Cumings, Mrs. John Bradley (Florence Briggs Th...</td>\n",
       "      <td>female</td>\n",
       "      <td>38.0</td>\n",
       "      <td>1</td>\n",
       "      <td>0</td>\n",
       "      <td>PC 17599</td>\n",
       "      <td>71.2833</td>\n",
       "      <td>C85</td>\n",
       "      <td>C</td>\n",
       "    </tr>\n",
       "    <tr>\n",
       "      <th>2</th>\n",
       "      <td>3</td>\n",
       "      <td>1</td>\n",
       "      <td>3</td>\n",
       "      <td>Heikkinen, Miss. Laina</td>\n",
       "      <td>female</td>\n",
       "      <td>26.0</td>\n",
       "      <td>0</td>\n",
       "      <td>0</td>\n",
       "      <td>STON/O2. 3101282</td>\n",
       "      <td>7.9250</td>\n",
       "      <td>NaN</td>\n",
       "      <td>S</td>\n",
       "    </tr>\n",
       "    <tr>\n",
       "      <th>3</th>\n",
       "      <td>4</td>\n",
       "      <td>1</td>\n",
       "      <td>1</td>\n",
       "      <td>Futrelle, Mrs. Jacques Heath (Lily May Peel)</td>\n",
       "      <td>female</td>\n",
       "      <td>35.0</td>\n",
       "      <td>1</td>\n",
       "      <td>0</td>\n",
       "      <td>113803</td>\n",
       "      <td>53.1000</td>\n",
       "      <td>C123</td>\n",
       "      <td>S</td>\n",
       "    </tr>\n",
       "    <tr>\n",
       "      <th>4</th>\n",
       "      <td>5</td>\n",
       "      <td>0</td>\n",
       "      <td>3</td>\n",
       "      <td>Allen, Mr. William Henry</td>\n",
       "      <td>male</td>\n",
       "      <td>35.0</td>\n",
       "      <td>0</td>\n",
       "      <td>0</td>\n",
       "      <td>373450</td>\n",
       "      <td>8.0500</td>\n",
       "      <td>NaN</td>\n",
       "      <td>S</td>\n",
       "    </tr>\n",
       "  </tbody>\n",
       "</table>\n",
       "</div>"
      ],
      "text/plain": [
       "   PassengerId  Survived  Pclass  \\\n",
       "0            1         0       3   \n",
       "1            2         1       1   \n",
       "2            3         1       3   \n",
       "3            4         1       1   \n",
       "4            5         0       3   \n",
       "\n",
       "                                                Name     Sex   Age  SibSp  \\\n",
       "0                            Braund, Mr. Owen Harris    male  22.0      1   \n",
       "1  Cumings, Mrs. John Bradley (Florence Briggs Th...  female  38.0      1   \n",
       "2                             Heikkinen, Miss. Laina  female  26.0      0   \n",
       "3       Futrelle, Mrs. Jacques Heath (Lily May Peel)  female  35.0      1   \n",
       "4                           Allen, Mr. William Henry    male  35.0      0   \n",
       "\n",
       "   Parch            Ticket     Fare Cabin Embarked  \n",
       "0      0         A/5 21171   7.2500   NaN        S  \n",
       "1      0          PC 17599  71.2833   C85        C  \n",
       "2      0  STON/O2. 3101282   7.9250   NaN        S  \n",
       "3      0            113803  53.1000  C123        S  \n",
       "4      0            373450   8.0500   NaN        S  "
      ]
     },
     "execution_count": 3,
     "metadata": {},
     "output_type": "execute_result"
    }
   ],
   "source": [
    "trainDf.head()"
   ]
  },
  {
   "cell_type": "markdown",
   "id": "839a29b2",
   "metadata": {
    "papermill": {
     "duration": 0.033438,
     "end_time": "2024-06-30T15:56:55.321330",
     "exception": false,
     "start_time": "2024-06-30T15:56:55.287892",
     "status": "completed"
    },
    "tags": []
   },
   "source": [
    "**Description Of all Columns of trainDf**\n",
    "- PassengerId: Unique IDs for passengers.\n",
    "- Survived: Survival status (1 = survived, 0 = died).\n",
    "- Pclass: Passenger class (1, 2, 3).\n",
    "- Name: Passenger names.\n",
    "- Sex: Gender (male, female).\n",
    "- Age: Passenger ages.\n",
    "- SibSp: Number of siblings/spouses aboard.\n",
    "- Parch: Number of parents/children aboard.\n",
    "- Ticket: Ticket numbers.\n",
    "- Fare: Fare paid.\n",
    "- Cabin: Cabin numbers.\n",
    "- Embarked: Port of embarkation (C = Cherbourg, Q = Queenstown, S = Southampton)."
   ]
  },
  {
   "cell_type": "code",
   "execution_count": 4,
   "id": "760af8d8",
   "metadata": {
    "execution": {
     "iopub.execute_input": "2024-06-30T15:56:55.390955Z",
     "iopub.status.busy": "2024-06-30T15:56:55.390547Z",
     "iopub.status.idle": "2024-06-30T15:56:55.412148Z",
     "shell.execute_reply": "2024-06-30T15:56:55.410830Z"
    },
    "papermill": {
     "duration": 0.059362,
     "end_time": "2024-06-30T15:56:55.415532",
     "exception": false,
     "start_time": "2024-06-30T15:56:55.356170",
     "status": "completed"
    },
    "tags": []
   },
   "outputs": [
    {
     "data": {
      "text/html": [
       "<div>\n",
       "<style scoped>\n",
       "    .dataframe tbody tr th:only-of-type {\n",
       "        vertical-align: middle;\n",
       "    }\n",
       "\n",
       "    .dataframe tbody tr th {\n",
       "        vertical-align: top;\n",
       "    }\n",
       "\n",
       "    .dataframe thead th {\n",
       "        text-align: right;\n",
       "    }\n",
       "</style>\n",
       "<table border=\"1\" class=\"dataframe\">\n",
       "  <thead>\n",
       "    <tr style=\"text-align: right;\">\n",
       "      <th></th>\n",
       "      <th>PassengerId</th>\n",
       "      <th>Pclass</th>\n",
       "      <th>Name</th>\n",
       "      <th>Sex</th>\n",
       "      <th>Age</th>\n",
       "      <th>SibSp</th>\n",
       "      <th>Parch</th>\n",
       "      <th>Ticket</th>\n",
       "      <th>Fare</th>\n",
       "      <th>Cabin</th>\n",
       "      <th>Embarked</th>\n",
       "    </tr>\n",
       "  </thead>\n",
       "  <tbody>\n",
       "    <tr>\n",
       "      <th>0</th>\n",
       "      <td>892</td>\n",
       "      <td>3</td>\n",
       "      <td>Kelly, Mr. James</td>\n",
       "      <td>male</td>\n",
       "      <td>34.5</td>\n",
       "      <td>0</td>\n",
       "      <td>0</td>\n",
       "      <td>330911</td>\n",
       "      <td>7.8292</td>\n",
       "      <td>NaN</td>\n",
       "      <td>Q</td>\n",
       "    </tr>\n",
       "    <tr>\n",
       "      <th>1</th>\n",
       "      <td>893</td>\n",
       "      <td>3</td>\n",
       "      <td>Wilkes, Mrs. James (Ellen Needs)</td>\n",
       "      <td>female</td>\n",
       "      <td>47.0</td>\n",
       "      <td>1</td>\n",
       "      <td>0</td>\n",
       "      <td>363272</td>\n",
       "      <td>7.0000</td>\n",
       "      <td>NaN</td>\n",
       "      <td>S</td>\n",
       "    </tr>\n",
       "    <tr>\n",
       "      <th>2</th>\n",
       "      <td>894</td>\n",
       "      <td>2</td>\n",
       "      <td>Myles, Mr. Thomas Francis</td>\n",
       "      <td>male</td>\n",
       "      <td>62.0</td>\n",
       "      <td>0</td>\n",
       "      <td>0</td>\n",
       "      <td>240276</td>\n",
       "      <td>9.6875</td>\n",
       "      <td>NaN</td>\n",
       "      <td>Q</td>\n",
       "    </tr>\n",
       "    <tr>\n",
       "      <th>3</th>\n",
       "      <td>895</td>\n",
       "      <td>3</td>\n",
       "      <td>Wirz, Mr. Albert</td>\n",
       "      <td>male</td>\n",
       "      <td>27.0</td>\n",
       "      <td>0</td>\n",
       "      <td>0</td>\n",
       "      <td>315154</td>\n",
       "      <td>8.6625</td>\n",
       "      <td>NaN</td>\n",
       "      <td>S</td>\n",
       "    </tr>\n",
       "    <tr>\n",
       "      <th>4</th>\n",
       "      <td>896</td>\n",
       "      <td>3</td>\n",
       "      <td>Hirvonen, Mrs. Alexander (Helga E Lindqvist)</td>\n",
       "      <td>female</td>\n",
       "      <td>22.0</td>\n",
       "      <td>1</td>\n",
       "      <td>1</td>\n",
       "      <td>3101298</td>\n",
       "      <td>12.2875</td>\n",
       "      <td>NaN</td>\n",
       "      <td>S</td>\n",
       "    </tr>\n",
       "    <tr>\n",
       "      <th>5</th>\n",
       "      <td>897</td>\n",
       "      <td>3</td>\n",
       "      <td>Svensson, Mr. Johan Cervin</td>\n",
       "      <td>male</td>\n",
       "      <td>14.0</td>\n",
       "      <td>0</td>\n",
       "      <td>0</td>\n",
       "      <td>7538</td>\n",
       "      <td>9.2250</td>\n",
       "      <td>NaN</td>\n",
       "      <td>S</td>\n",
       "    </tr>\n",
       "    <tr>\n",
       "      <th>6</th>\n",
       "      <td>898</td>\n",
       "      <td>3</td>\n",
       "      <td>Connolly, Miss. Kate</td>\n",
       "      <td>female</td>\n",
       "      <td>30.0</td>\n",
       "      <td>0</td>\n",
       "      <td>0</td>\n",
       "      <td>330972</td>\n",
       "      <td>7.6292</td>\n",
       "      <td>NaN</td>\n",
       "      <td>Q</td>\n",
       "    </tr>\n",
       "    <tr>\n",
       "      <th>7</th>\n",
       "      <td>899</td>\n",
       "      <td>2</td>\n",
       "      <td>Caldwell, Mr. Albert Francis</td>\n",
       "      <td>male</td>\n",
       "      <td>26.0</td>\n",
       "      <td>1</td>\n",
       "      <td>1</td>\n",
       "      <td>248738</td>\n",
       "      <td>29.0000</td>\n",
       "      <td>NaN</td>\n",
       "      <td>S</td>\n",
       "    </tr>\n",
       "    <tr>\n",
       "      <th>8</th>\n",
       "      <td>900</td>\n",
       "      <td>3</td>\n",
       "      <td>Abrahim, Mrs. Joseph (Sophie Halaut Easu)</td>\n",
       "      <td>female</td>\n",
       "      <td>18.0</td>\n",
       "      <td>0</td>\n",
       "      <td>0</td>\n",
       "      <td>2657</td>\n",
       "      <td>7.2292</td>\n",
       "      <td>NaN</td>\n",
       "      <td>C</td>\n",
       "    </tr>\n",
       "    <tr>\n",
       "      <th>9</th>\n",
       "      <td>901</td>\n",
       "      <td>3</td>\n",
       "      <td>Davies, Mr. John Samuel</td>\n",
       "      <td>male</td>\n",
       "      <td>21.0</td>\n",
       "      <td>2</td>\n",
       "      <td>0</td>\n",
       "      <td>A/4 48871</td>\n",
       "      <td>24.1500</td>\n",
       "      <td>NaN</td>\n",
       "      <td>S</td>\n",
       "    </tr>\n",
       "  </tbody>\n",
       "</table>\n",
       "</div>"
      ],
      "text/plain": [
       "   PassengerId  Pclass                                          Name     Sex  \\\n",
       "0          892       3                              Kelly, Mr. James    male   \n",
       "1          893       3              Wilkes, Mrs. James (Ellen Needs)  female   \n",
       "2          894       2                     Myles, Mr. Thomas Francis    male   \n",
       "3          895       3                              Wirz, Mr. Albert    male   \n",
       "4          896       3  Hirvonen, Mrs. Alexander (Helga E Lindqvist)  female   \n",
       "5          897       3                    Svensson, Mr. Johan Cervin    male   \n",
       "6          898       3                          Connolly, Miss. Kate  female   \n",
       "7          899       2                  Caldwell, Mr. Albert Francis    male   \n",
       "8          900       3     Abrahim, Mrs. Joseph (Sophie Halaut Easu)  female   \n",
       "9          901       3                       Davies, Mr. John Samuel    male   \n",
       "\n",
       "    Age  SibSp  Parch     Ticket     Fare Cabin Embarked  \n",
       "0  34.5      0      0     330911   7.8292   NaN        Q  \n",
       "1  47.0      1      0     363272   7.0000   NaN        S  \n",
       "2  62.0      0      0     240276   9.6875   NaN        Q  \n",
       "3  27.0      0      0     315154   8.6625   NaN        S  \n",
       "4  22.0      1      1    3101298  12.2875   NaN        S  \n",
       "5  14.0      0      0       7538   9.2250   NaN        S  \n",
       "6  30.0      0      0     330972   7.6292   NaN        Q  \n",
       "7  26.0      1      1     248738  29.0000   NaN        S  \n",
       "8  18.0      0      0       2657   7.2292   NaN        C  \n",
       "9  21.0      2      0  A/4 48871  24.1500   NaN        S  "
      ]
     },
     "execution_count": 4,
     "metadata": {},
     "output_type": "execute_result"
    }
   ],
   "source": [
    "testDf.head(10)"
   ]
  },
  {
   "cell_type": "markdown",
   "id": "a6de639b",
   "metadata": {
    "papermill": {
     "duration": 0.098178,
     "end_time": "2024-06-30T15:56:55.547190",
     "exception": false,
     "start_time": "2024-06-30T15:56:55.449012",
     "status": "completed"
    },
    "tags": []
   },
   "source": [
    "**Description Of all Columns of testDf**\n",
    "- PassengerId: Unique IDs for passengers.\n",
    "- Pclass: Passenger class (1, 2, 3).\n",
    "- Name: Passenger names.\n",
    "- Sex: Gender (male, female).\n",
    "- Age: Passenger ages.\n",
    "- SibSp: Number of siblings/spouses aboard.\n",
    "- Parch: Number of parents/children aboard.\n",
    "- Ticket: Ticket numbers.\n",
    "- Fare: Fare paid.\n",
    "- Cabin: Cabin numbers.\n",
    "- Embarked: Port of embarkation (C = Cherbourg, Q = Queenstown, S = Southampton).\n",
    "- (Note: Kaggle has hidden the Survived column for prediction purposes.)"
   ]
  },
  {
   "cell_type": "code",
   "execution_count": 5,
   "id": "defa1eeb",
   "metadata": {
    "execution": {
     "iopub.execute_input": "2024-06-30T15:56:55.616323Z",
     "iopub.status.busy": "2024-06-30T15:56:55.615940Z",
     "iopub.status.idle": "2024-06-30T15:56:55.643777Z",
     "shell.execute_reply": "2024-06-30T15:56:55.642535Z"
    },
    "papermill": {
     "duration": 0.066272,
     "end_time": "2024-06-30T15:56:55.646620",
     "exception": false,
     "start_time": "2024-06-30T15:56:55.580348",
     "status": "completed"
    },
    "tags": []
   },
   "outputs": [
    {
     "name": "stdout",
     "output_type": "stream",
     "text": [
      "<class 'pandas.core.frame.DataFrame'>\n",
      "RangeIndex: 891 entries, 0 to 890\n",
      "Data columns (total 12 columns):\n",
      " #   Column       Non-Null Count  Dtype  \n",
      "---  ------       --------------  -----  \n",
      " 0   PassengerId  891 non-null    int64  \n",
      " 1   Survived     891 non-null    int64  \n",
      " 2   Pclass       891 non-null    int64  \n",
      " 3   Name         891 non-null    object \n",
      " 4   Sex          891 non-null    object \n",
      " 5   Age          714 non-null    float64\n",
      " 6   SibSp        891 non-null    int64  \n",
      " 7   Parch        891 non-null    int64  \n",
      " 8   Ticket       891 non-null    object \n",
      " 9   Fare         891 non-null    float64\n",
      " 10  Cabin        204 non-null    object \n",
      " 11  Embarked     889 non-null    object \n",
      "dtypes: float64(2), int64(5), object(5)\n",
      "memory usage: 83.7+ KB\n"
     ]
    }
   ],
   "source": [
    "trainDf.info()"
   ]
  },
  {
   "cell_type": "markdown",
   "id": "1232d69b",
   "metadata": {
    "papermill": {
     "duration": 0.033537,
     "end_time": "2024-06-30T15:56:55.716448",
     "exception": false,
     "start_time": "2024-06-30T15:56:55.682911",
     "status": "completed"
    },
    "tags": []
   },
   "source": [
    "<div style=\"text-align: left;\">\n",
    "    <h2 style=\"color: #007BFF;\">Columns Types</h2>\n",
    "</div>\n",
    "<div style=\"text-align: left;\">\n",
    "    <h4 style=\"color: #007BFF;\">Numeric: </h4>\n",
    "</div>\n",
    "<div style=\"display: flex; justify-content: space-between; align-items: center; text-align: left;\">\n",
    "    <p style=\"color: white;\">PassengerId &nbsp;</p>\n",
    "    <p style=\"color: white;\">Age &nbsp;</p>\n",
    "    <p style=\"color: white;\">SibSp &nbsp;</p>\n",
    "    <p style=\"color: white;\">Parch &nbsp;</p>\n",
    "    <p style=\"color: white;\">Fare &nbsp;</p>\n",
    "</div>\n",
    "<div style=\"text-align: left;\">\n",
    "    <h4 style=\"color: #007BFF;\">Categorical: </h4>\n",
    "</div>\n",
    "<div style=\"display: flex; justify-content: space-between; align-items: center; text-align: left;\">\n",
    "    <p style=\"color: white;\">Survived &nbsp;</p>\n",
    "    <p style=\"color: white;\">Pclass &nbsp;</p>\n",
    "    <p style=\"color: white;\">Name &nbsp;</p>\n",
    "    <p style=\"color: white;\">Sex &nbsp;</p>\n",
    "    <p style=\"color: white;\">Cabin &nbsp;</p>\n",
    "     <p style=\"color: white;\">Ticket &nbsp;</p>\n",
    "     <p style=\"color: white;\">Embarked &nbsp;</p>\n",
    "</div>"
   ]
  },
  {
   "cell_type": "markdown",
   "id": "32fd3056",
   "metadata": {
    "papermill": {
     "duration": 0.033283,
     "end_time": "2024-06-30T15:56:55.783546",
     "exception": false,
     "start_time": "2024-06-30T15:56:55.750263",
     "status": "completed"
    },
    "tags": []
   },
   "source": [
    "<div style=\"text-align: center;\">\n",
    "    <h2 style=\"color: #007BFF;\">Analysis</h2>\n",
    "</div>"
   ]
  },
  {
   "cell_type": "markdown",
   "id": "9b27cb4a",
   "metadata": {
    "papermill": {
     "duration": 0.032786,
     "end_time": "2024-06-30T15:56:55.852028",
     "exception": false,
     "start_time": "2024-06-30T15:56:55.819242",
     "status": "completed"
    },
    "tags": []
   },
   "source": [
    "First, conduct a univariate analysis on all columns to identify issues such as null values. Next, perform bivariate analysis to further explore and document observed problems. Finally, address these issues through necessary feature engineering and draw meaningful insights."
   ]
  },
  {
   "cell_type": "markdown",
   "id": "0c339463",
   "metadata": {
    "papermill": {
     "duration": 0.034664,
     "end_time": "2024-06-30T15:56:55.921347",
     "exception": false,
     "start_time": "2024-06-30T15:56:55.886683",
     "status": "completed"
    },
    "tags": []
   },
   "source": [
    "<div style=\"text-align: center;\">\n",
    "    <h2 style=\"color: #007BFF;\">Univariate Analysis on Numeric Col</h2>\n",
    "</div>"
   ]
  },
  {
   "cell_type": "markdown",
   "id": "af233a89",
   "metadata": {
    "papermill": {
     "duration": 0.035002,
     "end_time": "2024-06-30T15:56:55.990581",
     "exception": false,
     "start_time": "2024-06-30T15:56:55.955579",
     "status": "completed"
    },
    "tags": []
   },
   "source": [
    "Conclusion for age\n",
    "- Age is normally distributed\n",
    "- 20% values are missing\n",
    "- Their are some outliers"
   ]
  },
  {
   "cell_type": "code",
   "execution_count": 6,
   "id": "c33888d0",
   "metadata": {
    "execution": {
     "iopub.execute_input": "2024-06-30T15:56:56.063116Z",
     "iopub.status.busy": "2024-06-30T15:56:56.062686Z",
     "iopub.status.idle": "2024-06-30T15:56:56.079104Z",
     "shell.execute_reply": "2024-06-30T15:56:56.077618Z"
    },
    "papermill": {
     "duration": 0.055494,
     "end_time": "2024-06-30T15:56:56.082848",
     "exception": false,
     "start_time": "2024-06-30T15:56:56.027354",
     "status": "completed"
    },
    "tags": []
   },
   "outputs": [
    {
     "data": {
      "text/plain": [
       "count    714.000000\n",
       "mean      29.699118\n",
       "std       14.526497\n",
       "min        0.420000\n",
       "25%       20.125000\n",
       "50%       28.000000\n",
       "75%       38.000000\n",
       "max       80.000000\n",
       "Name: Age, dtype: float64"
      ]
     },
     "execution_count": 6,
     "metadata": {},
     "output_type": "execute_result"
    }
   ],
   "source": [
    "trainDf['Age'].describe()"
   ]
  },
  {
   "cell_type": "code",
   "execution_count": 7,
   "id": "51e97636",
   "metadata": {
    "execution": {
     "iopub.execute_input": "2024-06-30T15:56:56.155359Z",
     "iopub.status.busy": "2024-06-30T15:56:56.154938Z",
     "iopub.status.idle": "2024-06-30T15:56:56.743585Z",
     "shell.execute_reply": "2024-06-30T15:56:56.741760Z"
    },
    "papermill": {
     "duration": 0.629878,
     "end_time": "2024-06-30T15:56:56.747544",
     "exception": false,
     "start_time": "2024-06-30T15:56:56.117666",
     "status": "completed"
    },
    "tags": []
   },
   "outputs": [
    {
     "data": {
      "image/png": "[encoded data removed]",
      "text/plain": [
       "<Figure size 640x480 with 1 Axes>"
      ]
     },
     "metadata": {},
     "output_type": "display_data"
    }
   ],
   "source": [
    "# Chechk Which Age people are most \n",
    "trainDf['Age'].plot(kind='kde')\n",
    "plt.xlabel(\"Ages\")  \n",
    "plt.ylabel(\"Frequency\")\n",
    "plt.title(\"Distribution of Ages\") \n",
    "plt.show()"
   ]
  },
  {
   "cell_type": "code",
   "execution_count": 8,
   "id": "b077fbfb",
   "metadata": {
    "execution": {
     "iopub.execute_input": "2024-06-30T15:56:56.835210Z",
     "iopub.status.busy": "2024-06-30T15:56:56.834501Z",
     "iopub.status.idle": "2024-06-30T15:56:57.103349Z",
     "shell.execute_reply": "2024-06-30T15:56:57.101986Z"
    },
    "papermill": {
     "duration": 0.319345,
     "end_time": "2024-06-30T15:56:57.106600",
     "exception": false,
     "start_time": "2024-06-30T15:56:56.787255",
     "status": "completed"
    },
    "tags": []
   },
   "outputs": [
    {
     "data": {
      "image/png": "[encoded data removed]",
      "text/plain": [
       "<Figure size 640x480 with 1 Axes>"
      ]
     },
     "metadata": {},
     "output_type": "display_data"
    }
   ],
   "source": [
    "trainDf['Age'].plot(kind='box')\n",
    "plt.show()"
   ]
  },
  {
   "cell_type": "code",
   "execution_count": 9,
   "id": "a3001872",
   "metadata": {
    "execution": {
     "iopub.execute_input": "2024-06-30T15:56:57.179618Z",
     "iopub.status.busy": "2024-06-30T15:56:57.179169Z",
     "iopub.status.idle": "2024-06-30T15:56:57.188765Z",
     "shell.execute_reply": "2024-06-30T15:56:57.186970Z"
    },
    "papermill": {
     "duration": 0.049612,
     "end_time": "2024-06-30T15:56:57.191596",
     "exception": false,
     "start_time": "2024-06-30T15:56:57.141984",
     "status": "completed"
    },
    "tags": []
   },
   "outputs": [
    {
     "data": {
      "text/plain": [
       "19.865319865319865"
      ]
     },
     "execution_count": 9,
     "metadata": {},
     "output_type": "execute_result"
    }
   ],
   "source": [
    "# - Missing Values\n",
    "(trainDf['Age'].isnull().sum()/trainDf['Age'].shape[0])*100"
   ]
  },
  {
   "cell_type": "markdown",
   "id": "ee25ad26",
   "metadata": {
    "papermill": {
     "duration": 0.034746,
     "end_time": "2024-06-30T15:56:57.261352",
     "exception": false,
     "start_time": "2024-06-30T15:56:57.226606",
     "status": "completed"
    },
    "tags": []
   },
   "source": [
    "Conclusion Fare column\n",
    "- Data is highly +vely skewed.\n",
    "- Fare column Contain group fare not individual.\n",
    "(This might be an issue )\n",
    "- We need to create new col called Individual fare."
   ]
  },
  {
   "cell_type": "code",
   "execution_count": 10,
   "id": "fca7ee8d",
   "metadata": {
    "execution": {
     "iopub.execute_input": "2024-06-30T15:56:57.337972Z",
     "iopub.status.busy": "2024-06-30T15:56:57.336315Z",
     "iopub.status.idle": "2024-06-30T15:56:57.351574Z",
     "shell.execute_reply": "2024-06-30T15:56:57.350285Z"
    },
    "papermill": {
     "duration": 0.05699,
     "end_time": "2024-06-30T15:56:57.354543",
     "exception": false,
     "start_time": "2024-06-30T15:56:57.297553",
     "status": "completed"
    },
    "tags": []
   },
   "outputs": [
    {
     "data": {
      "text/plain": [
       "count    891.000000\n",
       "mean      32.204208\n",
       "std       49.693429\n",
       "min        0.000000\n",
       "25%        7.910400\n",
       "50%       14.454200\n",
       "75%       31.000000\n",
       "max      512.329200\n",
       "Name: Fare, dtype: float64"
      ]
     },
     "execution_count": 10,
     "metadata": {},
     "output_type": "execute_result"
    }
   ],
   "source": [
    "trainDf['Fare'].describe()"
   ]
  },
  {
   "cell_type": "code",
   "execution_count": 11,
   "id": "ef3f7a49",
   "metadata": {
    "execution": {
     "iopub.execute_input": "2024-06-30T15:56:57.428687Z",
     "iopub.status.busy": "2024-06-30T15:56:57.428264Z",
     "iopub.status.idle": "2024-06-30T15:56:57.439187Z",
     "shell.execute_reply": "2024-06-30T15:56:57.437236Z"
    },
    "papermill": {
     "duration": 0.052194,
     "end_time": "2024-06-30T15:56:57.442862",
     "exception": false,
     "start_time": "2024-06-30T15:56:57.390668",
     "status": "completed"
    },
    "tags": []
   },
   "outputs": [
    {
     "data": {
      "text/plain": [
       "4.787316519674893"
      ]
     },
     "execution_count": 11,
     "metadata": {},
     "output_type": "execute_result"
    }
   ],
   "source": [
    "trainDf['Fare'].skew()"
   ]
  },
  {
   "cell_type": "code",
   "execution_count": 12,
   "id": "47602a02",
   "metadata": {
    "execution": {
     "iopub.execute_input": "2024-06-30T15:56:57.517866Z",
     "iopub.status.busy": "2024-06-30T15:56:57.517385Z",
     "iopub.status.idle": "2024-06-30T15:56:57.832154Z",
     "shell.execute_reply": "2024-06-30T15:56:57.830555Z"
    },
    "papermill": {
     "duration": 0.356092,
     "end_time": "2024-06-30T15:56:57.835371",
     "exception": false,
     "start_time": "2024-06-30T15:56:57.479279",
     "status": "completed"
    },
    "tags": []
   },
   "outputs": [
    {
     "data": {
      "image/png": "[encoded data removed]",
      "text/plain": [
       "<Figure size 640x480 with 1 Axes>"
      ]
     },
     "metadata": {},
     "output_type": "display_data"
    }
   ],
   "source": [
    "trainDf['Fare'].plot(kind='kde')\n",
    "plt.show()"
   ]
  },
  {
   "cell_type": "code",
   "execution_count": 13,
   "id": "2cae421e",
   "metadata": {
    "execution": {
     "iopub.execute_input": "2024-06-30T15:56:57.913472Z",
     "iopub.status.busy": "2024-06-30T15:56:57.913041Z",
     "iopub.status.idle": "2024-06-30T15:56:57.942372Z",
     "shell.execute_reply": "2024-06-30T15:56:57.940330Z"
    },
    "papermill": {
     "duration": 0.071175,
     "end_time": "2024-06-30T15:56:57.945911",
     "exception": false,
     "start_time": "2024-06-30T15:56:57.874736",
     "status": "completed"
    },
    "tags": []
   },
   "outputs": [
    {
     "data": {
      "text/html": [
       "<div>\n",
       "<style scoped>\n",
       "    .dataframe tbody tr th:only-of-type {\n",
       "        vertical-align: middle;\n",
       "    }\n",
       "\n",
       "    .dataframe tbody tr th {\n",
       "        vertical-align: top;\n",
       "    }\n",
       "\n",
       "    .dataframe thead th {\n",
       "        text-align: right;\n",
       "    }\n",
       "</style>\n",
       "<table border=\"1\" class=\"dataframe\">\n",
       "  <thead>\n",
       "    <tr style=\"text-align: right;\">\n",
       "      <th></th>\n",
       "      <th>PassengerId</th>\n",
       "      <th>Survived</th>\n",
       "      <th>Pclass</th>\n",
       "      <th>Name</th>\n",
       "      <th>Sex</th>\n",
       "      <th>Age</th>\n",
       "      <th>SibSp</th>\n",
       "      <th>Parch</th>\n",
       "      <th>Ticket</th>\n",
       "      <th>Fare</th>\n",
       "      <th>Cabin</th>\n",
       "      <th>Embarked</th>\n",
       "    </tr>\n",
       "  </thead>\n",
       "  <tbody>\n",
       "    <tr>\n",
       "      <th>27</th>\n",
       "      <td>28</td>\n",
       "      <td>0</td>\n",
       "      <td>1</td>\n",
       "      <td>Fortune, Mr. Charles Alexander</td>\n",
       "      <td>male</td>\n",
       "      <td>19.0</td>\n",
       "      <td>3</td>\n",
       "      <td>2</td>\n",
       "      <td>19950</td>\n",
       "      <td>263.0000</td>\n",
       "      <td>C23 C25 C27</td>\n",
       "      <td>S</td>\n",
       "    </tr>\n",
       "    <tr>\n",
       "      <th>88</th>\n",
       "      <td>89</td>\n",
       "      <td>1</td>\n",
       "      <td>1</td>\n",
       "      <td>Fortune, Miss. Mabel Helen</td>\n",
       "      <td>female</td>\n",
       "      <td>23.0</td>\n",
       "      <td>3</td>\n",
       "      <td>2</td>\n",
       "      <td>19950</td>\n",
       "      <td>263.0000</td>\n",
       "      <td>C23 C25 C27</td>\n",
       "      <td>S</td>\n",
       "    </tr>\n",
       "    <tr>\n",
       "      <th>258</th>\n",
       "      <td>259</td>\n",
       "      <td>1</td>\n",
       "      <td>1</td>\n",
       "      <td>Ward, Miss. Anna</td>\n",
       "      <td>female</td>\n",
       "      <td>35.0</td>\n",
       "      <td>0</td>\n",
       "      <td>0</td>\n",
       "      <td>PC 17755</td>\n",
       "      <td>512.3292</td>\n",
       "      <td>NaN</td>\n",
       "      <td>C</td>\n",
       "    </tr>\n",
       "    <tr>\n",
       "      <th>311</th>\n",
       "      <td>312</td>\n",
       "      <td>1</td>\n",
       "      <td>1</td>\n",
       "      <td>Ryerson, Miss. Emily Borie</td>\n",
       "      <td>female</td>\n",
       "      <td>18.0</td>\n",
       "      <td>2</td>\n",
       "      <td>2</td>\n",
       "      <td>PC 17608</td>\n",
       "      <td>262.3750</td>\n",
       "      <td>B57 B59 B63 B66</td>\n",
       "      <td>C</td>\n",
       "    </tr>\n",
       "    <tr>\n",
       "      <th>341</th>\n",
       "      <td>342</td>\n",
       "      <td>1</td>\n",
       "      <td>1</td>\n",
       "      <td>Fortune, Miss. Alice Elizabeth</td>\n",
       "      <td>female</td>\n",
       "      <td>24.0</td>\n",
       "      <td>3</td>\n",
       "      <td>2</td>\n",
       "      <td>19950</td>\n",
       "      <td>263.0000</td>\n",
       "      <td>C23 C25 C27</td>\n",
       "      <td>S</td>\n",
       "    </tr>\n",
       "    <tr>\n",
       "      <th>438</th>\n",
       "      <td>439</td>\n",
       "      <td>0</td>\n",
       "      <td>1</td>\n",
       "      <td>Fortune, Mr. Mark</td>\n",
       "      <td>male</td>\n",
       "      <td>64.0</td>\n",
       "      <td>1</td>\n",
       "      <td>4</td>\n",
       "      <td>19950</td>\n",
       "      <td>263.0000</td>\n",
       "      <td>C23 C25 C27</td>\n",
       "      <td>S</td>\n",
       "    </tr>\n",
       "    <tr>\n",
       "      <th>679</th>\n",
       "      <td>680</td>\n",
       "      <td>1</td>\n",
       "      <td>1</td>\n",
       "      <td>Cardeza, Mr. Thomas Drake Martinez</td>\n",
       "      <td>male</td>\n",
       "      <td>36.0</td>\n",
       "      <td>0</td>\n",
       "      <td>1</td>\n",
       "      <td>PC 17755</td>\n",
       "      <td>512.3292</td>\n",
       "      <td>B51 B53 B55</td>\n",
       "      <td>C</td>\n",
       "    </tr>\n",
       "    <tr>\n",
       "      <th>737</th>\n",
       "      <td>738</td>\n",
       "      <td>1</td>\n",
       "      <td>1</td>\n",
       "      <td>Lesurer, Mr. Gustave J</td>\n",
       "      <td>male</td>\n",
       "      <td>35.0</td>\n",
       "      <td>0</td>\n",
       "      <td>0</td>\n",
       "      <td>PC 17755</td>\n",
       "      <td>512.3292</td>\n",
       "      <td>B101</td>\n",
       "      <td>C</td>\n",
       "    </tr>\n",
       "    <tr>\n",
       "      <th>742</th>\n",
       "      <td>743</td>\n",
       "      <td>1</td>\n",
       "      <td>1</td>\n",
       "      <td>Ryerson, Miss. Susan Parker \"Suzette\"</td>\n",
       "      <td>female</td>\n",
       "      <td>21.0</td>\n",
       "      <td>2</td>\n",
       "      <td>2</td>\n",
       "      <td>PC 17608</td>\n",
       "      <td>262.3750</td>\n",
       "      <td>B57 B59 B63 B66</td>\n",
       "      <td>C</td>\n",
       "    </tr>\n",
       "  </tbody>\n",
       "</table>\n",
       "</div>"
      ],
      "text/plain": [
       "     PassengerId  Survived  Pclass                                   Name  \\\n",
       "27            28         0       1         Fortune, Mr. Charles Alexander   \n",
       "88            89         1       1             Fortune, Miss. Mabel Helen   \n",
       "258          259         1       1                       Ward, Miss. Anna   \n",
       "311          312         1       1             Ryerson, Miss. Emily Borie   \n",
       "341          342         1       1         Fortune, Miss. Alice Elizabeth   \n",
       "438          439         0       1                      Fortune, Mr. Mark   \n",
       "679          680         1       1     Cardeza, Mr. Thomas Drake Martinez   \n",
       "737          738         1       1                 Lesurer, Mr. Gustave J   \n",
       "742          743         1       1  Ryerson, Miss. Susan Parker \"Suzette\"   \n",
       "\n",
       "        Sex   Age  SibSp  Parch    Ticket      Fare            Cabin Embarked  \n",
       "27     male  19.0      3      2     19950  263.0000      C23 C25 C27        S  \n",
       "88   female  23.0      3      2     19950  263.0000      C23 C25 C27        S  \n",
       "258  female  35.0      0      0  PC 17755  512.3292              NaN        C  \n",
       "311  female  18.0      2      2  PC 17608  262.3750  B57 B59 B63 B66        C  \n",
       "341  female  24.0      3      2     19950  263.0000      C23 C25 C27        S  \n",
       "438    male  64.0      1      4     19950  263.0000      C23 C25 C27        S  \n",
       "679    male  36.0      0      1  PC 17755  512.3292      B51 B53 B55        C  \n",
       "737    male  35.0      0      0  PC 17755  512.3292             B101        C  \n",
       "742  female  21.0      2      2  PC 17608  262.3750  B57 B59 B63 B66        C  "
      ]
     },
     "execution_count": 13,
     "metadata": {},
     "output_type": "execute_result"
    }
   ],
   "source": [
    "trainDf[trainDf['Fare']>250]"
   ]
  },
  {
   "cell_type": "code",
   "execution_count": 14,
   "id": "f04f342f",
   "metadata": {
    "execution": {
     "iopub.execute_input": "2024-06-30T15:56:58.020969Z",
     "iopub.status.busy": "2024-06-30T15:56:58.020514Z",
     "iopub.status.idle": "2024-06-30T15:56:58.030652Z",
     "shell.execute_reply": "2024-06-30T15:56:58.029057Z"
    },
    "papermill": {
     "duration": 0.051486,
     "end_time": "2024-06-30T15:56:58.033669",
     "exception": false,
     "start_time": "2024-06-30T15:56:57.982183",
     "status": "completed"
    },
    "tags": []
   },
   "outputs": [
    {
     "data": {
      "text/plain": [
       "0"
      ]
     },
     "execution_count": 14,
     "metadata": {},
     "output_type": "execute_result"
    }
   ],
   "source": [
    "# No. of nan values\n",
    "trainDf['Fare'].isnull().sum()"
   ]
  },
  {
   "cell_type": "code",
   "execution_count": 15,
   "id": "0ed6cc5c",
   "metadata": {
    "execution": {
     "iopub.execute_input": "2024-06-30T15:56:58.115335Z",
     "iopub.status.busy": "2024-06-30T15:56:58.114911Z",
     "iopub.status.idle": "2024-06-30T15:56:58.304375Z",
     "shell.execute_reply": "2024-06-30T15:56:58.302547Z"
    },
    "papermill": {
     "duration": 0.234684,
     "end_time": "2024-06-30T15:56:58.307833",
     "exception": false,
     "start_time": "2024-06-30T15:56:58.073149",
     "status": "completed"
    },
    "tags": []
   },
   "outputs": [
    {
     "data": {
      "text/plain": [
       "<Axes: >"
      ]
     },
     "execution_count": 15,
     "metadata": {},
     "output_type": "execute_result"
    },
    {
     "data": {
      "image/png": "[encoded data removed]",
      "text/plain": [
       "<Figure size 640x480 with 1 Axes>"
      ]
     },
     "metadata": {},
     "output_type": "display_data"
    }
   ],
   "source": [
    "# to incdicate outliers\n",
    "trainDf['Fare'].plot(kind='box')"
   ]
  },
  {
   "cell_type": "markdown",
   "id": "a34e9b27",
   "metadata": {
    "papermill": {
     "duration": 0.037175,
     "end_time": "2024-06-30T15:56:58.384102",
     "exception": false,
     "start_time": "2024-06-30T15:56:58.346927",
     "status": "completed"
    },
    "tags": []
   },
   "source": [
    "<div style=\"text-align: center;\">\n",
    "    <h2 style=\"color: #007BFF;\">Univariate Analysis on Categorical Col</h2>\n",
    "</div>"
   ]
  },
  {
   "cell_type": "markdown",
   "id": "11d22163",
   "metadata": {
    "papermill": {
     "duration": 0.037881,
     "end_time": "2024-06-30T15:56:58.459860",
     "exception": false,
     "start_time": "2024-06-30T15:56:58.421979",
     "status": "completed"
    },
    "tags": []
   },
   "source": [
    "Conclusion Survived\n",
    "- Data has no null values.\n",
    "- 61.6% people die and other 38.4% save\n"
   ]
  },
  {
   "cell_type": "code",
   "execution_count": 16,
   "id": "b65d54b6",
   "metadata": {
    "execution": {
     "iopub.execute_input": "2024-06-30T15:56:58.539115Z",
     "iopub.status.busy": "2024-06-30T15:56:58.538701Z",
     "iopub.status.idle": "2024-06-30T15:56:58.550594Z",
     "shell.execute_reply": "2024-06-30T15:56:58.549209Z"
    },
    "papermill": {
     "duration": 0.053544,
     "end_time": "2024-06-30T15:56:58.553405",
     "exception": false,
     "start_time": "2024-06-30T15:56:58.499861",
     "status": "completed"
    },
    "tags": []
   },
   "outputs": [
    {
     "data": {
      "text/plain": [
       "Survived\n",
       "0    549\n",
       "1    342\n",
       "Name: count, dtype: int64"
      ]
     },
     "execution_count": 16,
     "metadata": {},
     "output_type": "execute_result"
    }
   ],
   "source": [
    "trainDf['Survived'].value_counts()"
   ]
  },
  {
   "cell_type": "code",
   "execution_count": 17,
   "id": "0fa9bec0",
   "metadata": {
    "execution": {
     "iopub.execute_input": "2024-06-30T15:56:58.631071Z",
     "iopub.status.busy": "2024-06-30T15:56:58.630564Z",
     "iopub.status.idle": "2024-06-30T15:56:58.776558Z",
     "shell.execute_reply": "2024-06-30T15:56:58.775346Z"
    },
    "papermill": {
     "duration": 0.18932,
     "end_time": "2024-06-30T15:56:58.779378",
     "exception": false,
     "start_time": "2024-06-30T15:56:58.590058",
     "status": "completed"
    },
    "tags": []
   },
   "outputs": [
    {
     "data": {
      "image/png": "[encoded data removed]",
      "text/plain": [
       "<Figure size 640x480 with 1 Axes>"
      ]
     },
     "metadata": {},
     "output_type": "display_data"
    }
   ],
   "source": [
    "trainDf['Survived'].value_counts().plot(kind='pie',autopct='%0.1f%%')\n",
    "plt.title(\"Survived people on Tiatanic\")\n",
    "plt.show()"
   ]
  },
  {
   "cell_type": "code",
   "execution_count": 18,
   "id": "3e2b61da",
   "metadata": {
    "execution": {
     "iopub.execute_input": "2024-06-30T15:56:58.860895Z",
     "iopub.status.busy": "2024-06-30T15:56:58.860440Z",
     "iopub.status.idle": "2024-06-30T15:56:58.869285Z",
     "shell.execute_reply": "2024-06-30T15:56:58.868001Z"
    },
    "papermill": {
     "duration": 0.052933,
     "end_time": "2024-06-30T15:56:58.872031",
     "exception": false,
     "start_time": "2024-06-30T15:56:58.819098",
     "status": "completed"
    },
    "tags": []
   },
   "outputs": [
    {
     "data": {
      "text/plain": [
       "0"
      ]
     },
     "execution_count": 18,
     "metadata": {},
     "output_type": "execute_result"
    }
   ],
   "source": [
    "# is any null value\n",
    "trainDf['Survived'].isnull().sum()"
   ]
  },
  {
   "cell_type": "markdown",
   "id": "73616f5b",
   "metadata": {
    "papermill": {
     "duration": 0.039553,
     "end_time": "2024-06-30T15:56:58.948732",
     "exception": false,
     "start_time": "2024-06-30T15:56:58.909179",
     "status": "completed"
    },
    "tags": []
   },
   "source": [
    "Conclusion Pclass\n",
    "- Surprisingly, Class 3 has the highest number of passengers (491), followed by Class 1 (216) and Class 2 (184).\n"
   ]
  },
  {
   "cell_type": "code",
   "execution_count": 19,
   "id": "ae3a311e",
   "metadata": {
    "execution": {
     "iopub.execute_input": "2024-06-30T15:56:59.030706Z",
     "iopub.status.busy": "2024-06-30T15:56:59.030284Z",
     "iopub.status.idle": "2024-06-30T15:56:59.041192Z",
     "shell.execute_reply": "2024-06-30T15:56:59.039952Z"
    },
    "papermill": {
     "duration": 0.054948,
     "end_time": "2024-06-30T15:56:59.044002",
     "exception": false,
     "start_time": "2024-06-30T15:56:58.989054",
     "status": "completed"
    },
    "tags": []
   },
   "outputs": [
    {
     "data": {
      "text/plain": [
       "Pclass\n",
       "3    491\n",
       "1    216\n",
       "2    184\n",
       "Name: count, dtype: int64"
      ]
     },
     "execution_count": 19,
     "metadata": {},
     "output_type": "execute_result"
    }
   ],
   "source": [
    "trainDf['Pclass'].value_counts()"
   ]
  },
  {
   "cell_type": "code",
   "execution_count": 20,
   "id": "636f4d0d",
   "metadata": {
    "execution": {
     "iopub.execute_input": "2024-06-30T15:56:59.125967Z",
     "iopub.status.busy": "2024-06-30T15:56:59.125144Z",
     "iopub.status.idle": "2024-06-30T15:56:59.286979Z",
     "shell.execute_reply": "2024-06-30T15:56:59.285745Z"
    },
    "papermill": {
     "duration": 0.205094,
     "end_time": "2024-06-30T15:56:59.289827",
     "exception": false,
     "start_time": "2024-06-30T15:56:59.084733",
     "status": "completed"
    },
    "tags": []
   },
   "outputs": [
    {
     "data": {
      "image/png": "[encoded data removed]",
      "text/plain": [
       "<Figure size 640x480 with 1 Axes>"
      ]
     },
     "metadata": {},
     "output_type": "display_data"
    }
   ],
   "source": [
    "trainDf['Pclass'].value_counts().plot(kind='pie',autopct='%0.1f%%')\n",
    "plt.title(\"Class Wise people on Tiatanic\")\n",
    "plt.show()"
   ]
  },
  {
   "cell_type": "code",
   "execution_count": 21,
   "id": "952603ad",
   "metadata": {
    "execution": {
     "iopub.execute_input": "2024-06-30T15:56:59.372866Z",
     "iopub.status.busy": "2024-06-30T15:56:59.372429Z",
     "iopub.status.idle": "2024-06-30T15:56:59.380837Z",
     "shell.execute_reply": "2024-06-30T15:56:59.379506Z"
    },
    "papermill": {
     "duration": 0.052875,
     "end_time": "2024-06-30T15:56:59.383742",
     "exception": false,
     "start_time": "2024-06-30T15:56:59.330867",
     "status": "completed"
    },
    "tags": []
   },
   "outputs": [
    {
     "data": {
      "text/plain": [
       "0"
      ]
     },
     "execution_count": 21,
     "metadata": {},
     "output_type": "execute_result"
    }
   ],
   "source": [
    "# no of null values\n",
    "trainDf['Pclass'].isnull().sum()"
   ]
  },
  {
   "cell_type": "markdown",
   "id": "c2e593a3",
   "metadata": {
    "papermill": {
     "duration": 0.039105,
     "end_time": "2024-06-30T15:56:59.462663",
     "exception": false,
     "start_time": "2024-06-30T15:56:59.423558",
     "status": "completed"
    },
    "tags": []
   },
   "source": [
    "**Conclusion for sex col**\n",
    "- Normal Distribution"
   ]
  },
  {
   "cell_type": "code",
   "execution_count": 22,
   "id": "709c6ecf",
   "metadata": {
    "execution": {
     "iopub.execute_input": "2024-06-30T15:56:59.544433Z",
     "iopub.status.busy": "2024-06-30T15:56:59.544054Z",
     "iopub.status.idle": "2024-06-30T15:56:59.554390Z",
     "shell.execute_reply": "2024-06-30T15:56:59.553065Z"
    },
    "papermill": {
     "duration": 0.055952,
     "end_time": "2024-06-30T15:56:59.557539",
     "exception": false,
     "start_time": "2024-06-30T15:56:59.501587",
     "status": "completed"
    },
    "tags": []
   },
   "outputs": [
    {
     "data": {
      "text/plain": [
       "Sex\n",
       "male      577\n",
       "female    314\n",
       "Name: count, dtype: int64"
      ]
     },
     "execution_count": 22,
     "metadata": {},
     "output_type": "execute_result"
    }
   ],
   "source": [
    "trainDf['Sex'].value_counts()"
   ]
  },
  {
   "cell_type": "code",
   "execution_count": 23,
   "id": "0db37fb4",
   "metadata": {
    "execution": {
     "iopub.execute_input": "2024-06-30T15:56:59.642195Z",
     "iopub.status.busy": "2024-06-30T15:56:59.641804Z",
     "iopub.status.idle": "2024-06-30T15:56:59.820300Z",
     "shell.execute_reply": "2024-06-30T15:56:59.818564Z"
    },
    "papermill": {
     "duration": 0.224133,
     "end_time": "2024-06-30T15:56:59.823362",
     "exception": false,
     "start_time": "2024-06-30T15:56:59.599229",
     "status": "completed"
    },
    "tags": []
   },
   "outputs": [
    {
     "data": {
      "image/png": "[encoded data removed]",
      "text/plain": [
       "<Figure size 640x480 with 1 Axes>"
      ]
     },
     "metadata": {},
     "output_type": "display_data"
    }
   ],
   "source": [
    "trainDf['Sex'].value_counts().plot(kind='pie',autopct='%0.1f%%')\n",
    "plt.title(\"Gender wise people on Tiatanic\")\n",
    "plt.show()"
   ]
  },
  {
   "cell_type": "markdown",
   "id": "96cbd523",
   "metadata": {
    "papermill": {
     "duration": 0.04443,
     "end_time": "2024-06-30T15:56:59.916698",
     "exception": false,
     "start_time": "2024-06-30T15:56:59.872268",
     "status": "completed"
    },
    "tags": []
   },
   "source": [
    "**Conclusion for SibSp & Parch col**\n",
    "- SibSp & Parch both can be merge to form a new col called Family_size\n",
    "- Can make a new column is_Alone\n",
    "- Max no of passengers travel alone"
   ]
  },
  {
   "cell_type": "code",
   "execution_count": 24,
   "id": "de63b8a4",
   "metadata": {
    "execution": {
     "iopub.execute_input": "2024-06-30T15:57:00.005955Z",
     "iopub.status.busy": "2024-06-30T15:57:00.005535Z",
     "iopub.status.idle": "2024-06-30T15:57:00.019059Z",
     "shell.execute_reply": "2024-06-30T15:57:00.017273Z"
    },
    "papermill": {
     "duration": 0.058685,
     "end_time": "2024-06-30T15:57:00.021964",
     "exception": false,
     "start_time": "2024-06-30T15:56:59.963279",
     "status": "completed"
    },
    "tags": []
   },
   "outputs": [
    {
     "data": {
      "text/plain": [
       "SibSp\n",
       "0    608\n",
       "1    209\n",
       "2     28\n",
       "4     18\n",
       "3     16\n",
       "8      7\n",
       "5      5\n",
       "Name: count, dtype: int64"
      ]
     },
     "execution_count": 24,
     "metadata": {},
     "output_type": "execute_result"
    }
   ],
   "source": [
    "# no of people visit with no of siblings\n",
    "trainDf['SibSp'].value_counts()"
   ]
  },
  {
   "cell_type": "code",
   "execution_count": 25,
   "id": "27e369c7",
   "metadata": {
    "execution": {
     "iopub.execute_input": "2024-06-30T15:57:00.111127Z",
     "iopub.status.busy": "2024-06-30T15:57:00.110682Z",
     "iopub.status.idle": "2024-06-30T15:57:00.119900Z",
     "shell.execute_reply": "2024-06-30T15:57:00.118636Z"
    },
    "papermill": {
     "duration": 0.055184,
     "end_time": "2024-06-30T15:57:00.122415",
     "exception": false,
     "start_time": "2024-06-30T15:57:00.067231",
     "status": "completed"
    },
    "tags": []
   },
   "outputs": [
    {
     "data": {
      "text/plain": [
       "0"
      ]
     },
     "execution_count": 25,
     "metadata": {},
     "output_type": "execute_result"
    }
   ],
   "source": [
    "trainDf['SibSp'].isnull().sum()"
   ]
  },
  {
   "cell_type": "code",
   "execution_count": 26,
   "id": "825fac54",
   "metadata": {
    "execution": {
     "iopub.execute_input": "2024-06-30T15:57:00.206291Z",
     "iopub.status.busy": "2024-06-30T15:57:00.205292Z",
     "iopub.status.idle": "2024-06-30T15:57:00.425793Z",
     "shell.execute_reply": "2024-06-30T15:57:00.422964Z"
    },
    "papermill": {
     "duration": 0.267255,
     "end_time": "2024-06-30T15:57:00.430978",
     "exception": false,
     "start_time": "2024-06-30T15:57:00.163723",
     "status": "completed"
    },
    "tags": []
   },
   "outputs": [
    {
     "data": {
      "image/png": "[encoded data removed]",
      "text/plain": [
       "<Figure size 640x480 with 1 Axes>"
      ]
     },
     "metadata": {},
     "output_type": "display_data"
    }
   ],
   "source": [
    "sibsp_counts = trainDf['SibSp'].value_counts()\n",
    "explode = [0, 0.1, 0.4, 0.5, 0.6, 0.7,0.9]\n",
    "plt.pie(sibsp_counts, labels=sibsp_counts.index, autopct='%0.1f%%', explode=explode)\n",
    "plt.title(\"Travel with Number of Siblings\")\n",
    "plt.axis('equal')  \n",
    "plt.show()"
   ]
  },
  {
   "cell_type": "code",
   "execution_count": 27,
   "id": "2f63e5ff",
   "metadata": {
    "execution": {
     "iopub.execute_input": "2024-06-30T15:57:00.523195Z",
     "iopub.status.busy": "2024-06-30T15:57:00.522751Z",
     "iopub.status.idle": "2024-06-30T15:57:00.769999Z",
     "shell.execute_reply": "2024-06-30T15:57:00.768861Z"
    },
    "papermill": {
     "duration": 0.291704,
     "end_time": "2024-06-30T15:57:00.772911",
     "exception": false,
     "start_time": "2024-06-30T15:57:00.481207",
     "status": "completed"
    },
    "tags": []
   },
   "outputs": [
    {
     "data": {
      "image/png": "[encoded data removed]",
      "text/plain": [
       "<Figure size 640x480 with 1 Axes>"
      ]
     },
     "metadata": {},
     "output_type": "display_data"
    }
   ],
   "source": [
    "trainDf['SibSp'].value_counts().plot(kind='bar')\n",
    "plt.xlabel('Number of Siblings/Spouses')\n",
    "plt.ylabel('Count')\n",
    "plt.title('Distribution of Siblings/Spouses Aboard (SibSp)')\n",
    "plt.show()"
   ]
  },
  {
   "cell_type": "code",
   "execution_count": 28,
   "id": "c5864de5",
   "metadata": {
    "execution": {
     "iopub.execute_input": "2024-06-30T15:57:00.857949Z",
     "iopub.status.busy": "2024-06-30T15:57:00.857568Z",
     "iopub.status.idle": "2024-06-30T15:57:00.867975Z",
     "shell.execute_reply": "2024-06-30T15:57:00.866483Z"
    },
    "papermill": {
     "duration": 0.056861,
     "end_time": "2024-06-30T15:57:00.870717",
     "exception": false,
     "start_time": "2024-06-30T15:57:00.813856",
     "status": "completed"
    },
    "tags": []
   },
   "outputs": [
    {
     "data": {
      "text/plain": [
       "Parch\n",
       "0    678\n",
       "1    118\n",
       "2     80\n",
       "5      5\n",
       "3      5\n",
       "4      4\n",
       "6      1\n",
       "Name: count, dtype: int64"
      ]
     },
     "execution_count": 28,
     "metadata": {},
     "output_type": "execute_result"
    }
   ],
   "source": [
    "# no of people visit with Parents\n",
    "trainDf['Parch'].value_counts()"
   ]
  },
  {
   "cell_type": "code",
   "execution_count": 29,
   "id": "03da2a18",
   "metadata": {
    "execution": {
     "iopub.execute_input": "2024-06-30T15:57:00.954022Z",
     "iopub.status.busy": "2024-06-30T15:57:00.953632Z",
     "iopub.status.idle": "2024-06-30T15:57:01.141481Z",
     "shell.execute_reply": "2024-06-30T15:57:01.139796Z"
    },
    "papermill": {
     "duration": 0.235429,
     "end_time": "2024-06-30T15:57:01.146728",
     "exception": false,
     "start_time": "2024-06-30T15:57:00.911299",
     "status": "completed"
    },
    "tags": []
   },
   "outputs": [
    {
     "data": {
      "image/png": "[encoded data removed]",
      "text/plain": [
       "<Figure size 640x480 with 1 Axes>"
      ]
     },
     "metadata": {},
     "output_type": "display_data"
    }
   ],
   "source": [
    "sibsp_counts = trainDf['Parch'].value_counts()\n",
    "explode = [0, 0.1, 0.4, 0.5, 0.6, 0.7,0.9]\n",
    "plt.pie(sibsp_counts, labels=sibsp_counts.index, autopct='%0.1f%%', explode=explode)\n",
    "plt.title(\"Travel with Number of Parents/Children\")\n",
    "plt.axis('equal')  \n",
    "plt.show()"
   ]
  },
  {
   "cell_type": "code",
   "execution_count": 30,
   "id": "abe24fc0",
   "metadata": {
    "execution": {
     "iopub.execute_input": "2024-06-30T15:57:01.269558Z",
     "iopub.status.busy": "2024-06-30T15:57:01.269142Z",
     "iopub.status.idle": "2024-06-30T15:57:01.590667Z",
     "shell.execute_reply": "2024-06-30T15:57:01.589243Z"
    },
    "papermill": {
     "duration": 0.368757,
     "end_time": "2024-06-30T15:57:01.593530",
     "exception": false,
     "start_time": "2024-06-30T15:57:01.224773",
     "status": "completed"
    },
    "tags": []
   },
   "outputs": [
    {
     "data": {
      "image/png": "[encoded data removed]",
      "text/plain": [
       "<Figure size 640x480 with 1 Axes>"
      ]
     },
     "metadata": {},
     "output_type": "display_data"
    }
   ],
   "source": [
    "trainDf['Parch'].value_counts().plot(kind='bar')\n",
    "plt.xlabel('Number of Parents/Children')\n",
    "plt.ylabel('Count')\n",
    "plt.title('Distribution of Parents/Children Aboard (Parch)')\n",
    "plt.show()"
   ]
  },
  {
   "cell_type": "markdown",
   "id": "8cc27090",
   "metadata": {
    "papermill": {
     "duration": 0.043294,
     "end_time": "2024-06-30T15:57:01.680816",
     "exception": false,
     "start_time": "2024-06-30T15:57:01.637522",
     "status": "completed"
    },
    "tags": []
   },
   "source": [
    "Embarked Columns"
   ]
  },
  {
   "cell_type": "code",
   "execution_count": 31,
   "id": "99e75791",
   "metadata": {
    "execution": {
     "iopub.execute_input": "2024-06-30T15:57:01.770953Z",
     "iopub.status.busy": "2024-06-30T15:57:01.770516Z",
     "iopub.status.idle": "2024-06-30T15:57:01.781524Z",
     "shell.execute_reply": "2024-06-30T15:57:01.780243Z"
    },
    "papermill": {
     "duration": 0.058069,
     "end_time": "2024-06-30T15:57:01.784507",
     "exception": false,
     "start_time": "2024-06-30T15:57:01.726438",
     "status": "completed"
    },
    "tags": []
   },
   "outputs": [
    {
     "data": {
      "text/plain": [
       "Embarked\n",
       "S    644\n",
       "C    168\n",
       "Q     77\n",
       "Name: count, dtype: int64"
      ]
     },
     "execution_count": 31,
     "metadata": {},
     "output_type": "execute_result"
    }
   ],
   "source": [
    "trainDf['Embarked'].value_counts()"
   ]
  },
  {
   "cell_type": "code",
   "execution_count": 32,
   "id": "e97965f1",
   "metadata": {
    "execution": {
     "iopub.execute_input": "2024-06-30T15:57:01.877725Z",
     "iopub.status.busy": "2024-06-30T15:57:01.877291Z",
     "iopub.status.idle": "2024-06-30T15:57:02.050332Z",
     "shell.execute_reply": "2024-06-30T15:57:02.048674Z"
    },
    "papermill": {
     "duration": 0.222725,
     "end_time": "2024-06-30T15:57:02.053393",
     "exception": false,
     "start_time": "2024-06-30T15:57:01.830668",
     "status": "completed"
    },
    "tags": []
   },
   "outputs": [
    {
     "data": {
      "image/png": "[encoded data removed]",
      "text/plain": [
       "<Figure size 640x480 with 1 Axes>"
      ]
     },
     "metadata": {},
     "output_type": "display_data"
    }
   ],
   "source": [
    "sibsp_counts = trainDf['Embarked'].value_counts()\n",
    "# explode = [0, 0.1, 0.4, 0.5, 0.6, 0.7,0.9]\n",
    "plt.pie(sibsp_counts, labels=sibsp_counts.index, autopct='%0.1f%%')\n",
    "plt.title(\"No of People embarking from these ports\")\n",
    "plt.axis('equal')  \n",
    "plt.show()"
   ]
  },
  {
   "cell_type": "code",
   "execution_count": 33,
   "id": "c2840f72",
   "metadata": {
    "execution": {
     "iopub.execute_input": "2024-06-30T15:57:02.147314Z",
     "iopub.status.busy": "2024-06-30T15:57:02.146754Z",
     "iopub.status.idle": "2024-06-30T15:57:02.387747Z",
     "shell.execute_reply": "2024-06-30T15:57:02.385983Z"
    },
    "papermill": {
     "duration": 0.290366,
     "end_time": "2024-06-30T15:57:02.391168",
     "exception": false,
     "start_time": "2024-06-30T15:57:02.100802",
     "status": "completed"
    },
    "tags": []
   },
   "outputs": [
    {
     "data": {
      "image/png": "[encoded data removed]",
      "text/plain": [
       "<Figure size 640x480 with 1 Axes>"
      ]
     },
     "metadata": {},
     "output_type": "display_data"
    }
   ],
   "source": [
    "trainDf['Embarked'].value_counts().plot(kind='bar')\n",
    "plt.xlabel('Embarking Ports')\n",
    "plt.ylabel('Count')\n",
    "plt.title('Distribution of  People embarking from these ports')\n",
    "plt.show()"
   ]
  },
  {
   "cell_type": "markdown",
   "id": "1910b600",
   "metadata": {
    "papermill": {
     "duration": 0.043867,
     "end_time": "2024-06-30T15:57:02.482884",
     "exception": false,
     "start_time": "2024-06-30T15:57:02.439017",
     "status": "completed"
    },
    "tags": []
   },
   "source": [
    "<div style=\"text-align: center;\">\n",
    "    <h2 style=\"color: #007BFF;\">Bivariate Analysis</h2>\n",
    "</div>"
   ]
  },
  {
   "cell_type": "markdown",
   "id": "4b89b205",
   "metadata": {
    "papermill": {
     "duration": 0.045576,
     "end_time": "2024-06-30T15:57:02.573666",
     "exception": false,
     "start_time": "2024-06-30T15:57:02.528090",
     "status": "completed"
    },
    "tags": []
   },
   "source": [
    "<div style=\"text-align: left;\">\n",
    "    <h4 style=\"color: black;\">Class wise Survived people</h4>\n",
    "</div>\n"
   ]
  },
  {
   "cell_type": "code",
   "execution_count": 34,
   "id": "d4aef7fb",
   "metadata": {
    "execution": {
     "iopub.execute_input": "2024-06-30T15:57:02.668644Z",
     "iopub.status.busy": "2024-06-30T15:57:02.668165Z",
     "iopub.status.idle": "2024-06-30T15:57:02.704210Z",
     "shell.execute_reply": "2024-06-30T15:57:02.702790Z"
    },
    "papermill": {
     "duration": 0.087744,
     "end_time": "2024-06-30T15:57:02.707930",
     "exception": false,
     "start_time": "2024-06-30T15:57:02.620186",
     "status": "completed"
    },
    "tags": []
   },
   "outputs": [
    {
     "data": {
      "text/html": [
       "<div>\n",
       "<style scoped>\n",
       "    .dataframe tbody tr th:only-of-type {\n",
       "        vertical-align: middle;\n",
       "    }\n",
       "\n",
       "    .dataframe tbody tr th {\n",
       "        vertical-align: top;\n",
       "    }\n",
       "\n",
       "    .dataframe thead th {\n",
       "        text-align: right;\n",
       "    }\n",
       "</style>\n",
       "<table border=\"1\" class=\"dataframe\">\n",
       "  <thead>\n",
       "    <tr style=\"text-align: right;\">\n",
       "      <th>Survived</th>\n",
       "      <th>0</th>\n",
       "      <th>1</th>\n",
       "    </tr>\n",
       "    <tr>\n",
       "      <th>Pclass</th>\n",
       "      <th></th>\n",
       "      <th></th>\n",
       "    </tr>\n",
       "  </thead>\n",
       "  <tbody>\n",
       "    <tr>\n",
       "      <th>1</th>\n",
       "      <td>14.571949</td>\n",
       "      <td>39.766082</td>\n",
       "    </tr>\n",
       "    <tr>\n",
       "      <th>2</th>\n",
       "      <td>17.668488</td>\n",
       "      <td>25.438596</td>\n",
       "    </tr>\n",
       "    <tr>\n",
       "      <th>3</th>\n",
       "      <td>67.759563</td>\n",
       "      <td>34.795322</td>\n",
       "    </tr>\n",
       "  </tbody>\n",
       "</table>\n",
       "</div>"
      ],
      "text/plain": [
       "Survived          0          1\n",
       "Pclass                        \n",
       "1         14.571949  39.766082\n",
       "2         17.668488  25.438596\n",
       "3         67.759563  34.795322"
      ]
     },
     "execution_count": 34,
     "metadata": {},
     "output_type": "execute_result"
    }
   ],
   "source": [
    "pd.crosstab(trainDf['Pclass'],trainDf['Survived'],normalize='columns')*100"
   ]
  },
  {
   "cell_type": "code",
   "execution_count": 35,
   "id": "50322164",
   "metadata": {
    "execution": {
     "iopub.execute_input": "2024-06-30T15:57:02.804066Z",
     "iopub.status.busy": "2024-06-30T15:57:02.803669Z",
     "iopub.status.idle": "2024-06-30T15:57:02.820422Z",
     "shell.execute_reply": "2024-06-30T15:57:02.818935Z"
    },
    "papermill": {
     "duration": 0.068652,
     "end_time": "2024-06-30T15:57:02.823613",
     "exception": false,
     "start_time": "2024-06-30T15:57:02.754961",
     "status": "completed"
    },
    "tags": []
   },
   "outputs": [],
   "source": [
    "classSur=pd.crosstab(trainDf['Pclass'],trainDf['Survived'],normalize='columns')*100"
   ]
  },
  {
   "cell_type": "code",
   "execution_count": 36,
   "id": "19beadd8",
   "metadata": {
    "execution": {
     "iopub.execute_input": "2024-06-30T15:57:02.923318Z",
     "iopub.status.busy": "2024-06-30T15:57:02.922868Z",
     "iopub.status.idle": "2024-06-30T15:57:03.191859Z",
     "shell.execute_reply": "2024-06-30T15:57:03.190374Z"
    },
    "papermill": {
     "duration": 0.324138,
     "end_time": "2024-06-30T15:57:03.194560",
     "exception": false,
     "start_time": "2024-06-30T15:57:02.870422",
     "status": "completed"
    },
    "tags": []
   },
   "outputs": [
    {
     "data": {
      "image/png": "[encoded data removed]",
      "text/plain": [
       "<Figure size 640x480 with 1 Axes>"
      ]
     },
     "metadata": {},
     "output_type": "display_data"
    }
   ],
   "source": [
    "classSur.plot(kind='bar',stacked=True)\n",
    "plt.title(\"Class wise Survived\")\n",
    "plt.show()"
   ]
  },
  {
   "cell_type": "markdown",
   "id": "c2606ed0",
   "metadata": {
    "papermill": {
     "duration": 0.048033,
     "end_time": "2024-06-30T15:57:03.287852",
     "exception": false,
     "start_time": "2024-06-30T15:57:03.239819",
     "status": "completed"
    },
    "tags": []
   },
   "source": [
    "<div style=\"text-align: left;\">\n",
    "    <h4 style=\"color: black;\">Gender wise Survived people</h4>\n",
    "</div>\n"
   ]
  },
  {
   "cell_type": "code",
   "execution_count": 37,
   "id": "2fb83e4f",
   "metadata": {
    "execution": {
     "iopub.execute_input": "2024-06-30T15:57:03.382956Z",
     "iopub.status.busy": "2024-06-30T15:57:03.382478Z",
     "iopub.status.idle": "2024-06-30T15:57:03.413830Z",
     "shell.execute_reply": "2024-06-30T15:57:03.411161Z"
    },
    "papermill": {
     "duration": 0.085094,
     "end_time": "2024-06-30T15:57:03.418498",
     "exception": false,
     "start_time": "2024-06-30T15:57:03.333404",
     "status": "completed"
    },
    "tags": []
   },
   "outputs": [
    {
     "data": {
      "text/html": [
       "<div>\n",
       "<style scoped>\n",
       "    .dataframe tbody tr th:only-of-type {\n",
       "        vertical-align: middle;\n",
       "    }\n",
       "\n",
       "    .dataframe tbody tr th {\n",
       "        vertical-align: top;\n",
       "    }\n",
       "\n",
       "    .dataframe thead th {\n",
       "        text-align: right;\n",
       "    }\n",
       "</style>\n",
       "<table border=\"1\" class=\"dataframe\">\n",
       "  <thead>\n",
       "    <tr style=\"text-align: right;\">\n",
       "      <th>Survived</th>\n",
       "      <th>0</th>\n",
       "      <th>1</th>\n",
       "    </tr>\n",
       "    <tr>\n",
       "      <th>Sex</th>\n",
       "      <th></th>\n",
       "      <th></th>\n",
       "    </tr>\n",
       "  </thead>\n",
       "  <tbody>\n",
       "    <tr>\n",
       "      <th>female</th>\n",
       "      <td>14.754098</td>\n",
       "      <td>68.128655</td>\n",
       "    </tr>\n",
       "    <tr>\n",
       "      <th>male</th>\n",
       "      <td>85.245902</td>\n",
       "      <td>31.871345</td>\n",
       "    </tr>\n",
       "  </tbody>\n",
       "</table>\n",
       "</div>"
      ],
      "text/plain": [
       "Survived          0          1\n",
       "Sex                           \n",
       "female    14.754098  68.128655\n",
       "male      85.245902  31.871345"
      ]
     },
     "execution_count": 37,
     "metadata": {},
     "output_type": "execute_result"
    }
   ],
   "source": [
    "pd.crosstab(trainDf['Sex'],trainDf['Survived'],normalize='columns')*100"
   ]
  },
  {
   "cell_type": "code",
   "execution_count": 38,
   "id": "b18781b7",
   "metadata": {
    "execution": {
     "iopub.execute_input": "2024-06-30T15:57:03.513761Z",
     "iopub.status.busy": "2024-06-30T15:57:03.513328Z",
     "iopub.status.idle": "2024-06-30T15:57:03.530661Z",
     "shell.execute_reply": "2024-06-30T15:57:03.529348Z"
    },
    "papermill": {
     "duration": 0.068616,
     "end_time": "2024-06-30T15:57:03.533948",
     "exception": false,
     "start_time": "2024-06-30T15:57:03.465332",
     "status": "completed"
    },
    "tags": []
   },
   "outputs": [],
   "source": [
    "genWise=pd.crosstab(trainDf['Sex'],trainDf['Survived'],normalize='columns')*100"
   ]
  },
  {
   "cell_type": "code",
   "execution_count": 39,
   "id": "771e935a",
   "metadata": {
    "execution": {
     "iopub.execute_input": "2024-06-30T15:57:03.629289Z",
     "iopub.status.busy": "2024-06-30T15:57:03.628881Z",
     "iopub.status.idle": "2024-06-30T15:57:03.933634Z",
     "shell.execute_reply": "2024-06-30T15:57:03.932252Z"
    },
    "papermill": {
     "duration": 0.35589,
     "end_time": "2024-06-30T15:57:03.937024",
     "exception": false,
     "start_time": "2024-06-30T15:57:03.581134",
     "status": "completed"
    },
    "tags": []
   },
   "outputs": [
    {
     "data": {
      "image/png": "[encoded data removed]",
      "text/plain": [
       "<Figure size 640x480 with 1 Axes>"
      ]
     },
     "metadata": {},
     "output_type": "display_data"
    }
   ],
   "source": [
    "genWise.plot(kind='bar',stacked=True)\n",
    "plt.title(\"Gender wise Survived\")\n",
    "plt.show()"
   ]
  },
  {
   "cell_type": "markdown",
   "id": "63342080",
   "metadata": {
    "papermill": {
     "duration": 0.051552,
     "end_time": "2024-06-30T15:57:04.037716",
     "exception": false,
     "start_time": "2024-06-30T15:57:03.986164",
     "status": "completed"
    },
    "tags": []
   },
   "source": [
    "<div style=\"text-align: left;\">\n",
    "    <h4 style=\"color: black;\">Embarked wise Survived people</h4>\n",
    "</div>\n"
   ]
  },
  {
   "cell_type": "code",
   "execution_count": 40,
   "id": "7325d8b0",
   "metadata": {
    "execution": {
     "iopub.execute_input": "2024-06-30T15:57:04.139073Z",
     "iopub.status.busy": "2024-06-30T15:57:04.138451Z",
     "iopub.status.idle": "2024-06-30T15:57:04.166540Z",
     "shell.execute_reply": "2024-06-30T15:57:04.165063Z"
    },
    "papermill": {
     "duration": 0.080597,
     "end_time": "2024-06-30T15:57:04.169275",
     "exception": false,
     "start_time": "2024-06-30T15:57:04.088678",
     "status": "completed"
    },
    "tags": []
   },
   "outputs": [
    {
     "data": {
      "text/html": [
       "<div>\n",
       "<style scoped>\n",
       "    .dataframe tbody tr th:only-of-type {\n",
       "        vertical-align: middle;\n",
       "    }\n",
       "\n",
       "    .dataframe tbody tr th {\n",
       "        vertical-align: top;\n",
       "    }\n",
       "\n",
       "    .dataframe thead th {\n",
       "        text-align: right;\n",
       "    }\n",
       "</style>\n",
       "<table border=\"1\" class=\"dataframe\">\n",
       "  <thead>\n",
       "    <tr style=\"text-align: right;\">\n",
       "      <th>Embarked</th>\n",
       "      <th>C</th>\n",
       "      <th>Q</th>\n",
       "      <th>S</th>\n",
       "    </tr>\n",
       "    <tr>\n",
       "      <th>Survived</th>\n",
       "      <th></th>\n",
       "      <th></th>\n",
       "      <th></th>\n",
       "    </tr>\n",
       "  </thead>\n",
       "  <tbody>\n",
       "    <tr>\n",
       "      <th>0</th>\n",
       "      <td>44.642857</td>\n",
       "      <td>61.038961</td>\n",
       "      <td>66.304348</td>\n",
       "    </tr>\n",
       "    <tr>\n",
       "      <th>1</th>\n",
       "      <td>55.357143</td>\n",
       "      <td>38.961039</td>\n",
       "      <td>33.695652</td>\n",
       "    </tr>\n",
       "  </tbody>\n",
       "</table>\n",
       "</div>"
      ],
      "text/plain": [
       "Embarked          C          Q          S\n",
       "Survived                                 \n",
       "0         44.642857  61.038961  66.304348\n",
       "1         55.357143  38.961039  33.695652"
      ]
     },
     "execution_count": 40,
     "metadata": {},
     "output_type": "execute_result"
    }
   ],
   "source": [
    "pd.crosstab(trainDf['Survived'],trainDf['Embarked'],normalize=('columns'))*100"
   ]
  },
  {
   "cell_type": "code",
   "execution_count": 41,
   "id": "161b9b2e",
   "metadata": {
    "execution": {
     "iopub.execute_input": "2024-06-30T15:57:04.264278Z",
     "iopub.status.busy": "2024-06-30T15:57:04.263860Z",
     "iopub.status.idle": "2024-06-30T15:57:04.280150Z",
     "shell.execute_reply": "2024-06-30T15:57:04.278889Z"
    },
    "papermill": {
     "duration": 0.068047,
     "end_time": "2024-06-30T15:57:04.283161",
     "exception": false,
     "start_time": "2024-06-30T15:57:04.215114",
     "status": "completed"
    },
    "tags": []
   },
   "outputs": [],
   "source": [
    "embSur=pd.crosstab(trainDf['Survived'],trainDf['Embarked'],normalize=('columns'))*100"
   ]
  },
  {
   "cell_type": "code",
   "execution_count": 42,
   "id": "fd161e9c",
   "metadata": {
    "execution": {
     "iopub.execute_input": "2024-06-30T15:57:04.383236Z",
     "iopub.status.busy": "2024-06-30T15:57:04.382753Z",
     "iopub.status.idle": "2024-06-30T15:57:04.723658Z",
     "shell.execute_reply": "2024-06-30T15:57:04.722220Z"
    },
    "papermill": {
     "duration": 0.3954,
     "end_time": "2024-06-30T15:57:04.726275",
     "exception": false,
     "start_time": "2024-06-30T15:57:04.330875",
     "status": "completed"
    },
    "tags": []
   },
   "outputs": [
    {
     "data": {
      "image/png": "[encoded data removed]",
      "text/plain": [
       "<Figure size 640x480 with 1 Axes>"
      ]
     },
     "metadata": {},
     "output_type": "display_data"
    }
   ],
   "source": [
    "embSur.plot(kind='bar',stacked=True)\n",
    "plt.title(\"Embarked wise Survived\")\n",
    "plt.show()"
   ]
  },
  {
   "cell_type": "markdown",
   "id": "2eea8f9b",
   "metadata": {
    "papermill": {
     "duration": 0.046266,
     "end_time": "2024-06-30T15:57:04.818076",
     "exception": false,
     "start_time": "2024-06-30T15:57:04.771810",
     "status": "completed"
    },
    "tags": []
   },
   "source": [
    "<div style=\"text-align: left;\">\n",
    "    <h4 style=\"color: black;\">Age wise survived people</h4>\n",
    "</div>\n"
   ]
  },
  {
   "cell_type": "code",
   "execution_count": 43,
   "id": "3eebf92e",
   "metadata": {
    "execution": {
     "iopub.execute_input": "2024-06-30T15:57:04.918281Z",
     "iopub.status.busy": "2024-06-30T15:57:04.917888Z",
     "iopub.status.idle": "2024-06-30T15:57:05.329683Z",
     "shell.execute_reply": "2024-06-30T15:57:05.328535Z"
    },
    "papermill": {
     "duration": 0.466229,
     "end_time": "2024-06-30T15:57:05.332247",
     "exception": false,
     "start_time": "2024-06-30T15:57:04.866018",
     "status": "completed"
    },
    "tags": []
   },
   "outputs": [
    {
     "data": {
      "image/png": "[encoded data removed]",
      "text/plain": [
       "<Figure size 640x480 with 1 Axes>"
      ]
     },
     "metadata": {},
     "output_type": "display_data"
    }
   ],
   "source": [
    "trainDf[trainDf['Survived']==1]['Age'].plot(kind='kde',label='Survived')\n",
    "trainDf[trainDf['Survived']==0]['Age'].plot(kind='kde',label='Not Survived')\n",
    "plt.title(\"Age wise survived people\")\n",
    "plt.xlabel(\"Age\")\n",
    "plt.legend()\n",
    "plt.show()"
   ]
  },
  {
   "cell_type": "markdown",
   "id": "2c7ddfd1",
   "metadata": {
    "papermill": {
     "duration": 0.049683,
     "end_time": "2024-06-30T15:57:05.430999",
     "exception": false,
     "start_time": "2024-06-30T15:57:05.381316",
     "status": "completed"
    },
    "tags": []
   },
   "source": [
    "### **Conclusion After Uni and Bivariate Analysis:**\n",
    "\n",
    "**Identified issues:**\n",
    "- The Fare column contains grouped fares instead of individual fares, which may impact analysis.\n",
    "\n",
    "**Proposed solutions:**\n",
    "- Create a new column, Individual_Fare, to address the grouped fare issue.\n",
    "- Merge SibSp and Parch into a new column, Family_Size.\n",
    "- Introduce an is_Alone column based on family presence.\n",
    "\n",
    "Next steps involve implementing these changes through feature engineering to facilitate deeper analysis and derive meaningful insights.\n"
   ]
  },
  {
   "cell_type": "markdown",
   "id": "ae4802fa",
   "metadata": {
    "papermill": {
     "duration": 0.047693,
     "end_time": "2024-06-30T15:57:05.527116",
     "exception": false,
     "start_time": "2024-06-30T15:57:05.479423",
     "status": "completed"
    },
    "tags": []
   },
   "source": [
    "<div style=\"text-align: center;\">\n",
    "    <h2 style=\"color: #007BFF;\">Feature engineering</h2>\n",
    "</div>\n"
   ]
  },
  {
   "cell_type": "markdown",
   "id": "9a986c3b",
   "metadata": {
    "papermill": {
     "duration": 0.048807,
     "end_time": "2024-06-30T15:57:05.624237",
     "exception": false,
     "start_time": "2024-06-30T15:57:05.575430",
     "status": "completed"
    },
    "tags": []
   },
   "source": [
    "Maximum Siblings/Spouses\n",
    "- 8"
   ]
  },
  {
   "cell_type": "markdown",
   "id": "9e267ca7",
   "metadata": {
    "papermill": {
     "duration": 0.050661,
     "end_time": "2024-06-30T15:57:05.722917",
     "exception": false,
     "start_time": "2024-06-30T15:57:05.672256",
     "status": "completed"
    },
    "tags": []
   },
   "source": []
  },
  {
   "cell_type": "code",
   "execution_count": 44,
   "id": "e045b586",
   "metadata": {
    "execution": {
     "iopub.execute_input": "2024-06-30T15:57:05.822819Z",
     "iopub.status.busy": "2024-06-30T15:57:05.822358Z",
     "iopub.status.idle": "2024-06-30T15:57:05.832800Z",
     "shell.execute_reply": "2024-06-30T15:57:05.831380Z"
    },
    "papermill": {
     "duration": 0.063776,
     "end_time": "2024-06-30T15:57:05.835576",
     "exception": false,
     "start_time": "2024-06-30T15:57:05.771800",
     "status": "completed"
    },
    "tags": []
   },
   "outputs": [
    {
     "data": {
      "text/plain": [
       "SibSp\n",
       "0    608\n",
       "1    209\n",
       "2     28\n",
       "4     18\n",
       "3     16\n",
       "8      7\n",
       "5      5\n",
       "Name: count, dtype: int64"
      ]
     },
     "execution_count": 44,
     "metadata": {},
     "output_type": "execute_result"
    }
   ],
   "source": [
    "trainDf['SibSp'].value_counts()"
   ]
  },
  {
   "cell_type": "code",
   "execution_count": 45,
   "id": "5ddba966",
   "metadata": {
    "execution": {
     "iopub.execute_input": "2024-06-30T15:57:05.937384Z",
     "iopub.status.busy": "2024-06-30T15:57:05.936950Z",
     "iopub.status.idle": "2024-06-30T15:57:05.957764Z",
     "shell.execute_reply": "2024-06-30T15:57:05.956497Z"
    },
    "papermill": {
     "duration": 0.075554,
     "end_time": "2024-06-30T15:57:05.960637",
     "exception": false,
     "start_time": "2024-06-30T15:57:05.885083",
     "status": "completed"
    },
    "tags": []
   },
   "outputs": [
    {
     "data": {
      "text/html": [
       "<div>\n",
       "<style scoped>\n",
       "    .dataframe tbody tr th:only-of-type {\n",
       "        vertical-align: middle;\n",
       "    }\n",
       "\n",
       "    .dataframe tbody tr th {\n",
       "        vertical-align: top;\n",
       "    }\n",
       "\n",
       "    .dataframe thead th {\n",
       "        text-align: right;\n",
       "    }\n",
       "</style>\n",
       "<table border=\"1\" class=\"dataframe\">\n",
       "  <thead>\n",
       "    <tr style=\"text-align: right;\">\n",
       "      <th></th>\n",
       "      <th>PassengerId</th>\n",
       "      <th>Survived</th>\n",
       "      <th>Pclass</th>\n",
       "      <th>Name</th>\n",
       "      <th>Sex</th>\n",
       "      <th>Age</th>\n",
       "      <th>SibSp</th>\n",
       "      <th>Parch</th>\n",
       "      <th>Ticket</th>\n",
       "      <th>Fare</th>\n",
       "      <th>Cabin</th>\n",
       "      <th>Embarked</th>\n",
       "    </tr>\n",
       "  </thead>\n",
       "  <tbody>\n",
       "    <tr>\n",
       "      <th>159</th>\n",
       "      <td>160</td>\n",
       "      <td>0</td>\n",
       "      <td>3</td>\n",
       "      <td>Sage, Master. Thomas Henry</td>\n",
       "      <td>male</td>\n",
       "      <td>NaN</td>\n",
       "      <td>8</td>\n",
       "      <td>2</td>\n",
       "      <td>CA. 2343</td>\n",
       "      <td>69.55</td>\n",
       "      <td>NaN</td>\n",
       "      <td>S</td>\n",
       "    </tr>\n",
       "    <tr>\n",
       "      <th>180</th>\n",
       "      <td>181</td>\n",
       "      <td>0</td>\n",
       "      <td>3</td>\n",
       "      <td>Sage, Miss. Constance Gladys</td>\n",
       "      <td>female</td>\n",
       "      <td>NaN</td>\n",
       "      <td>8</td>\n",
       "      <td>2</td>\n",
       "      <td>CA. 2343</td>\n",
       "      <td>69.55</td>\n",
       "      <td>NaN</td>\n",
       "      <td>S</td>\n",
       "    </tr>\n",
       "    <tr>\n",
       "      <th>201</th>\n",
       "      <td>202</td>\n",
       "      <td>0</td>\n",
       "      <td>3</td>\n",
       "      <td>Sage, Mr. Frederick</td>\n",
       "      <td>male</td>\n",
       "      <td>NaN</td>\n",
       "      <td>8</td>\n",
       "      <td>2</td>\n",
       "      <td>CA. 2343</td>\n",
       "      <td>69.55</td>\n",
       "      <td>NaN</td>\n",
       "      <td>S</td>\n",
       "    </tr>\n",
       "    <tr>\n",
       "      <th>324</th>\n",
       "      <td>325</td>\n",
       "      <td>0</td>\n",
       "      <td>3</td>\n",
       "      <td>Sage, Mr. George John Jr</td>\n",
       "      <td>male</td>\n",
       "      <td>NaN</td>\n",
       "      <td>8</td>\n",
       "      <td>2</td>\n",
       "      <td>CA. 2343</td>\n",
       "      <td>69.55</td>\n",
       "      <td>NaN</td>\n",
       "      <td>S</td>\n",
       "    </tr>\n",
       "    <tr>\n",
       "      <th>792</th>\n",
       "      <td>793</td>\n",
       "      <td>0</td>\n",
       "      <td>3</td>\n",
       "      <td>Sage, Miss. Stella Anna</td>\n",
       "      <td>female</td>\n",
       "      <td>NaN</td>\n",
       "      <td>8</td>\n",
       "      <td>2</td>\n",
       "      <td>CA. 2343</td>\n",
       "      <td>69.55</td>\n",
       "      <td>NaN</td>\n",
       "      <td>S</td>\n",
       "    </tr>\n",
       "    <tr>\n",
       "      <th>846</th>\n",
       "      <td>847</td>\n",
       "      <td>0</td>\n",
       "      <td>3</td>\n",
       "      <td>Sage, Mr. Douglas Bullen</td>\n",
       "      <td>male</td>\n",
       "      <td>NaN</td>\n",
       "      <td>8</td>\n",
       "      <td>2</td>\n",
       "      <td>CA. 2343</td>\n",
       "      <td>69.55</td>\n",
       "      <td>NaN</td>\n",
       "      <td>S</td>\n",
       "    </tr>\n",
       "    <tr>\n",
       "      <th>863</th>\n",
       "      <td>864</td>\n",
       "      <td>0</td>\n",
       "      <td>3</td>\n",
       "      <td>Sage, Miss. Dorothy Edith \"Dolly\"</td>\n",
       "      <td>female</td>\n",
       "      <td>NaN</td>\n",
       "      <td>8</td>\n",
       "      <td>2</td>\n",
       "      <td>CA. 2343</td>\n",
       "      <td>69.55</td>\n",
       "      <td>NaN</td>\n",
       "      <td>S</td>\n",
       "    </tr>\n",
       "  </tbody>\n",
       "</table>\n",
       "</div>"
      ],
      "text/plain": [
       "     PassengerId  Survived  Pclass                               Name     Sex  \\\n",
       "159          160         0       3         Sage, Master. Thomas Henry    male   \n",
       "180          181         0       3       Sage, Miss. Constance Gladys  female   \n",
       "201          202         0       3                Sage, Mr. Frederick    male   \n",
       "324          325         0       3           Sage, Mr. George John Jr    male   \n",
       "792          793         0       3            Sage, Miss. Stella Anna  female   \n",
       "846          847         0       3           Sage, Mr. Douglas Bullen    male   \n",
       "863          864         0       3  Sage, Miss. Dorothy Edith \"Dolly\"  female   \n",
       "\n",
       "     Age  SibSp  Parch    Ticket   Fare Cabin Embarked  \n",
       "159  NaN      8      2  CA. 2343  69.55   NaN        S  \n",
       "180  NaN      8      2  CA. 2343  69.55   NaN        S  \n",
       "201  NaN      8      2  CA. 2343  69.55   NaN        S  \n",
       "324  NaN      8      2  CA. 2343  69.55   NaN        S  \n",
       "792  NaN      8      2  CA. 2343  69.55   NaN        S  \n",
       "846  NaN      8      2  CA. 2343  69.55   NaN        S  \n",
       "863  NaN      8      2  CA. 2343  69.55   NaN        S  "
      ]
     },
     "execution_count": 45,
     "metadata": {},
     "output_type": "execute_result"
    }
   ],
   "source": [
    "trainDf[trainDf['SibSp']==8]"
   ]
  },
  {
   "cell_type": "code",
   "execution_count": 46,
   "id": "d222b68d",
   "metadata": {
    "execution": {
     "iopub.execute_input": "2024-06-30T15:57:06.063606Z",
     "iopub.status.busy": "2024-06-30T15:57:06.063141Z",
     "iopub.status.idle": "2024-06-30T15:57:06.083095Z",
     "shell.execute_reply": "2024-06-30T15:57:06.081793Z"
    },
    "papermill": {
     "duration": 0.075708,
     "end_time": "2024-06-30T15:57:06.085506",
     "exception": false,
     "start_time": "2024-06-30T15:57:06.009798",
     "status": "completed"
    },
    "tags": []
   },
   "outputs": [
    {
     "data": {
      "text/html": [
       "<div>\n",
       "<style scoped>\n",
       "    .dataframe tbody tr th:only-of-type {\n",
       "        vertical-align: middle;\n",
       "    }\n",
       "\n",
       "    .dataframe tbody tr th {\n",
       "        vertical-align: top;\n",
       "    }\n",
       "\n",
       "    .dataframe thead th {\n",
       "        text-align: right;\n",
       "    }\n",
       "</style>\n",
       "<table border=\"1\" class=\"dataframe\">\n",
       "  <thead>\n",
       "    <tr style=\"text-align: right;\">\n",
       "      <th></th>\n",
       "      <th>PassengerId</th>\n",
       "      <th>Survived</th>\n",
       "      <th>Pclass</th>\n",
       "      <th>Name</th>\n",
       "      <th>Sex</th>\n",
       "      <th>Age</th>\n",
       "      <th>SibSp</th>\n",
       "      <th>Parch</th>\n",
       "      <th>Ticket</th>\n",
       "      <th>Fare</th>\n",
       "      <th>Cabin</th>\n",
       "      <th>Embarked</th>\n",
       "    </tr>\n",
       "  </thead>\n",
       "  <tbody>\n",
       "    <tr>\n",
       "      <th>159</th>\n",
       "      <td>160</td>\n",
       "      <td>0</td>\n",
       "      <td>3</td>\n",
       "      <td>Sage, Master. Thomas Henry</td>\n",
       "      <td>male</td>\n",
       "      <td>NaN</td>\n",
       "      <td>8</td>\n",
       "      <td>2</td>\n",
       "      <td>CA. 2343</td>\n",
       "      <td>69.55</td>\n",
       "      <td>NaN</td>\n",
       "      <td>S</td>\n",
       "    </tr>\n",
       "    <tr>\n",
       "      <th>180</th>\n",
       "      <td>181</td>\n",
       "      <td>0</td>\n",
       "      <td>3</td>\n",
       "      <td>Sage, Miss. Constance Gladys</td>\n",
       "      <td>female</td>\n",
       "      <td>NaN</td>\n",
       "      <td>8</td>\n",
       "      <td>2</td>\n",
       "      <td>CA. 2343</td>\n",
       "      <td>69.55</td>\n",
       "      <td>NaN</td>\n",
       "      <td>S</td>\n",
       "    </tr>\n",
       "    <tr>\n",
       "      <th>201</th>\n",
       "      <td>202</td>\n",
       "      <td>0</td>\n",
       "      <td>3</td>\n",
       "      <td>Sage, Mr. Frederick</td>\n",
       "      <td>male</td>\n",
       "      <td>NaN</td>\n",
       "      <td>8</td>\n",
       "      <td>2</td>\n",
       "      <td>CA. 2343</td>\n",
       "      <td>69.55</td>\n",
       "      <td>NaN</td>\n",
       "      <td>S</td>\n",
       "    </tr>\n",
       "    <tr>\n",
       "      <th>324</th>\n",
       "      <td>325</td>\n",
       "      <td>0</td>\n",
       "      <td>3</td>\n",
       "      <td>Sage, Mr. George John Jr</td>\n",
       "      <td>male</td>\n",
       "      <td>NaN</td>\n",
       "      <td>8</td>\n",
       "      <td>2</td>\n",
       "      <td>CA. 2343</td>\n",
       "      <td>69.55</td>\n",
       "      <td>NaN</td>\n",
       "      <td>S</td>\n",
       "    </tr>\n",
       "    <tr>\n",
       "      <th>792</th>\n",
       "      <td>793</td>\n",
       "      <td>0</td>\n",
       "      <td>3</td>\n",
       "      <td>Sage, Miss. Stella Anna</td>\n",
       "      <td>female</td>\n",
       "      <td>NaN</td>\n",
       "      <td>8</td>\n",
       "      <td>2</td>\n",
       "      <td>CA. 2343</td>\n",
       "      <td>69.55</td>\n",
       "      <td>NaN</td>\n",
       "      <td>S</td>\n",
       "    </tr>\n",
       "    <tr>\n",
       "      <th>846</th>\n",
       "      <td>847</td>\n",
       "      <td>0</td>\n",
       "      <td>3</td>\n",
       "      <td>Sage, Mr. Douglas Bullen</td>\n",
       "      <td>male</td>\n",
       "      <td>NaN</td>\n",
       "      <td>8</td>\n",
       "      <td>2</td>\n",
       "      <td>CA. 2343</td>\n",
       "      <td>69.55</td>\n",
       "      <td>NaN</td>\n",
       "      <td>S</td>\n",
       "    </tr>\n",
       "    <tr>\n",
       "      <th>863</th>\n",
       "      <td>864</td>\n",
       "      <td>0</td>\n",
       "      <td>3</td>\n",
       "      <td>Sage, Miss. Dorothy Edith \"Dolly\"</td>\n",
       "      <td>female</td>\n",
       "      <td>NaN</td>\n",
       "      <td>8</td>\n",
       "      <td>2</td>\n",
       "      <td>CA. 2343</td>\n",
       "      <td>69.55</td>\n",
       "      <td>NaN</td>\n",
       "      <td>S</td>\n",
       "    </tr>\n",
       "  </tbody>\n",
       "</table>\n",
       "</div>"
      ],
      "text/plain": [
       "     PassengerId  Survived  Pclass                               Name     Sex  \\\n",
       "159          160         0       3         Sage, Master. Thomas Henry    male   \n",
       "180          181         0       3       Sage, Miss. Constance Gladys  female   \n",
       "201          202         0       3                Sage, Mr. Frederick    male   \n",
       "324          325         0       3           Sage, Mr. George John Jr    male   \n",
       "792          793         0       3            Sage, Miss. Stella Anna  female   \n",
       "846          847         0       3           Sage, Mr. Douglas Bullen    male   \n",
       "863          864         0       3  Sage, Miss. Dorothy Edith \"Dolly\"  female   \n",
       "\n",
       "     Age  SibSp  Parch    Ticket   Fare Cabin Embarked  \n",
       "159  NaN      8      2  CA. 2343  69.55   NaN        S  \n",
       "180  NaN      8      2  CA. 2343  69.55   NaN        S  \n",
       "201  NaN      8      2  CA. 2343  69.55   NaN        S  \n",
       "324  NaN      8      2  CA. 2343  69.55   NaN        S  \n",
       "792  NaN      8      2  CA. 2343  69.55   NaN        S  \n",
       "846  NaN      8      2  CA. 2343  69.55   NaN        S  \n",
       "863  NaN      8      2  CA. 2343  69.55   NaN        S  "
      ]
     },
     "execution_count": 46,
     "metadata": {},
     "output_type": "execute_result"
    }
   ],
   "source": [
    "trainDf[trainDf['Ticket']=='CA. 2343']"
   ]
  },
  {
   "cell_type": "markdown",
   "id": "cfd5164d",
   "metadata": {
    "papermill": {
     "duration": 0.048882,
     "end_time": "2024-06-30T15:57:06.182910",
     "exception": false,
     "start_time": "2024-06-30T15:57:06.134028",
     "status": "completed"
    },
    "tags": []
   },
   "source": [
    "- 8 SibSp and 2 Parch\n",
    "- Total members should be 2+8+1=11\n",
    "- but in trainDf only 8 \n",
    "- Chechk test df also for missing family memebers"
   ]
  },
  {
   "cell_type": "code",
   "execution_count": 47,
   "id": "fd03ab3c",
   "metadata": {
    "execution": {
     "iopub.execute_input": "2024-06-30T15:57:06.281258Z",
     "iopub.status.busy": "2024-06-30T15:57:06.280883Z",
     "iopub.status.idle": "2024-06-30T15:57:06.298968Z",
     "shell.execute_reply": "2024-06-30T15:57:06.297214Z"
    },
    "papermill": {
     "duration": 0.07059,
     "end_time": "2024-06-30T15:57:06.301837",
     "exception": false,
     "start_time": "2024-06-30T15:57:06.231247",
     "status": "completed"
    },
    "tags": []
   },
   "outputs": [
    {
     "data": {
      "text/html": [
       "<div>\n",
       "<style scoped>\n",
       "    .dataframe tbody tr th:only-of-type {\n",
       "        vertical-align: middle;\n",
       "    }\n",
       "\n",
       "    .dataframe tbody tr th {\n",
       "        vertical-align: top;\n",
       "    }\n",
       "\n",
       "    .dataframe thead th {\n",
       "        text-align: right;\n",
       "    }\n",
       "</style>\n",
       "<table border=\"1\" class=\"dataframe\">\n",
       "  <thead>\n",
       "    <tr style=\"text-align: right;\">\n",
       "      <th></th>\n",
       "      <th>PassengerId</th>\n",
       "      <th>Pclass</th>\n",
       "      <th>Name</th>\n",
       "      <th>Sex</th>\n",
       "      <th>Age</th>\n",
       "      <th>SibSp</th>\n",
       "      <th>Parch</th>\n",
       "      <th>Ticket</th>\n",
       "      <th>Fare</th>\n",
       "      <th>Cabin</th>\n",
       "      <th>Embarked</th>\n",
       "    </tr>\n",
       "  </thead>\n",
       "  <tbody>\n",
       "    <tr>\n",
       "      <th>188</th>\n",
       "      <td>1080</td>\n",
       "      <td>3</td>\n",
       "      <td>Sage, Miss. Ada</td>\n",
       "      <td>female</td>\n",
       "      <td>NaN</td>\n",
       "      <td>8</td>\n",
       "      <td>2</td>\n",
       "      <td>CA. 2343</td>\n",
       "      <td>69.55</td>\n",
       "      <td>NaN</td>\n",
       "      <td>S</td>\n",
       "    </tr>\n",
       "    <tr>\n",
       "      <th>360</th>\n",
       "      <td>1252</td>\n",
       "      <td>3</td>\n",
       "      <td>Sage, Master. William Henry</td>\n",
       "      <td>male</td>\n",
       "      <td>14.5</td>\n",
       "      <td>8</td>\n",
       "      <td>2</td>\n",
       "      <td>CA. 2343</td>\n",
       "      <td>69.55</td>\n",
       "      <td>NaN</td>\n",
       "      <td>S</td>\n",
       "    </tr>\n",
       "  </tbody>\n",
       "</table>\n",
       "</div>"
      ],
      "text/plain": [
       "     PassengerId  Pclass                         Name     Sex   Age  SibSp  \\\n",
       "188         1080       3              Sage, Miss. Ada  female   NaN      8   \n",
       "360         1252       3  Sage, Master. William Henry    male  14.5      8   \n",
       "\n",
       "     Parch    Ticket   Fare Cabin Embarked  \n",
       "188      2  CA. 2343  69.55   NaN        S  \n",
       "360      2  CA. 2343  69.55   NaN        S  "
      ]
     },
     "execution_count": 47,
     "metadata": {},
     "output_type": "execute_result"
    }
   ],
   "source": [
    "testDf[testDf['SibSp']==8]"
   ]
  },
  {
   "cell_type": "markdown",
   "id": "a21ae156",
   "metadata": {
    "papermill": {
     "duration": 0.049042,
     "end_time": "2024-06-30T15:57:06.402381",
     "exception": false,
     "start_time": "2024-06-30T15:57:06.353339",
     "status": "completed"
    },
    "tags": []
   },
   "source": [
    "- Other 2 members in test\n",
    "- Let's concat both trainDf and testDf"
   ]
  },
  {
   "cell_type": "code",
   "execution_count": 48,
   "id": "72c8dc62",
   "metadata": {
    "execution": {
     "iopub.execute_input": "2024-06-30T15:57:06.502755Z",
     "iopub.status.busy": "2024-06-30T15:57:06.502341Z",
     "iopub.status.idle": "2024-06-30T15:57:06.511277Z",
     "shell.execute_reply": "2024-06-30T15:57:06.509999Z"
    },
    "papermill": {
     "duration": 0.062578,
     "end_time": "2024-06-30T15:57:06.514102",
     "exception": false,
     "start_time": "2024-06-30T15:57:06.451524",
     "status": "completed"
    },
    "tags": []
   },
   "outputs": [],
   "source": [
    "df=pd.concat([trainDf,testDf])"
   ]
  },
  {
   "cell_type": "markdown",
   "id": "22fbac1b",
   "metadata": {
    "papermill": {
     "duration": 0.049562,
     "end_time": "2024-06-30T15:57:06.613663",
     "exception": false,
     "start_time": "2024-06-30T15:57:06.564101",
     "status": "completed"
    },
    "tags": []
   },
   "source": [
    "- All members now complete"
   ]
  },
  {
   "cell_type": "code",
   "execution_count": 49,
   "id": "259c637e",
   "metadata": {
    "execution": {
     "iopub.execute_input": "2024-06-30T15:57:06.720284Z",
     "iopub.status.busy": "2024-06-30T15:57:06.719880Z",
     "iopub.status.idle": "2024-06-30T15:57:06.743800Z",
     "shell.execute_reply": "2024-06-30T15:57:06.742543Z"
    },
    "papermill": {
     "duration": 0.07934,
     "end_time": "2024-06-30T15:57:06.746308",
     "exception": false,
     "start_time": "2024-06-30T15:57:06.666968",
     "status": "completed"
    },
    "tags": []
   },
   "outputs": [
    {
     "data": {
      "text/html": [
       "<div>\n",
       "<style scoped>\n",
       "    .dataframe tbody tr th:only-of-type {\n",
       "        vertical-align: middle;\n",
       "    }\n",
       "\n",
       "    .dataframe tbody tr th {\n",
       "        vertical-align: top;\n",
       "    }\n",
       "\n",
       "    .dataframe thead th {\n",
       "        text-align: right;\n",
       "    }\n",
       "</style>\n",
       "<table border=\"1\" class=\"dataframe\">\n",
       "  <thead>\n",
       "    <tr style=\"text-align: right;\">\n",
       "      <th></th>\n",
       "      <th>PassengerId</th>\n",
       "      <th>Survived</th>\n",
       "      <th>Pclass</th>\n",
       "      <th>Name</th>\n",
       "      <th>Sex</th>\n",
       "      <th>Age</th>\n",
       "      <th>SibSp</th>\n",
       "      <th>Parch</th>\n",
       "      <th>Ticket</th>\n",
       "      <th>Fare</th>\n",
       "      <th>Cabin</th>\n",
       "      <th>Embarked</th>\n",
       "    </tr>\n",
       "  </thead>\n",
       "  <tbody>\n",
       "    <tr>\n",
       "      <th>159</th>\n",
       "      <td>160</td>\n",
       "      <td>0.0</td>\n",
       "      <td>3</td>\n",
       "      <td>Sage, Master. Thomas Henry</td>\n",
       "      <td>male</td>\n",
       "      <td>NaN</td>\n",
       "      <td>8</td>\n",
       "      <td>2</td>\n",
       "      <td>CA. 2343</td>\n",
       "      <td>69.55</td>\n",
       "      <td>NaN</td>\n",
       "      <td>S</td>\n",
       "    </tr>\n",
       "    <tr>\n",
       "      <th>180</th>\n",
       "      <td>181</td>\n",
       "      <td>0.0</td>\n",
       "      <td>3</td>\n",
       "      <td>Sage, Miss. Constance Gladys</td>\n",
       "      <td>female</td>\n",
       "      <td>NaN</td>\n",
       "      <td>8</td>\n",
       "      <td>2</td>\n",
       "      <td>CA. 2343</td>\n",
       "      <td>69.55</td>\n",
       "      <td>NaN</td>\n",
       "      <td>S</td>\n",
       "    </tr>\n",
       "    <tr>\n",
       "      <th>201</th>\n",
       "      <td>202</td>\n",
       "      <td>0.0</td>\n",
       "      <td>3</td>\n",
       "      <td>Sage, Mr. Frederick</td>\n",
       "      <td>male</td>\n",
       "      <td>NaN</td>\n",
       "      <td>8</td>\n",
       "      <td>2</td>\n",
       "      <td>CA. 2343</td>\n",
       "      <td>69.55</td>\n",
       "      <td>NaN</td>\n",
       "      <td>S</td>\n",
       "    </tr>\n",
       "    <tr>\n",
       "      <th>324</th>\n",
       "      <td>325</td>\n",
       "      <td>0.0</td>\n",
       "      <td>3</td>\n",
       "      <td>Sage, Mr. George John Jr</td>\n",
       "      <td>male</td>\n",
       "      <td>NaN</td>\n",
       "      <td>8</td>\n",
       "      <td>2</td>\n",
       "      <td>CA. 2343</td>\n",
       "      <td>69.55</td>\n",
       "      <td>NaN</td>\n",
       "      <td>S</td>\n",
       "    </tr>\n",
       "    <tr>\n",
       "      <th>792</th>\n",
       "      <td>793</td>\n",
       "      <td>0.0</td>\n",
       "      <td>3</td>\n",
       "      <td>Sage, Miss. Stella Anna</td>\n",
       "      <td>female</td>\n",
       "      <td>NaN</td>\n",
       "      <td>8</td>\n",
       "      <td>2</td>\n",
       "      <td>CA. 2343</td>\n",
       "      <td>69.55</td>\n",
       "      <td>NaN</td>\n",
       "      <td>S</td>\n",
       "    </tr>\n",
       "    <tr>\n",
       "      <th>846</th>\n",
       "      <td>847</td>\n",
       "      <td>0.0</td>\n",
       "      <td>3</td>\n",
       "      <td>Sage, Mr. Douglas Bullen</td>\n",
       "      <td>male</td>\n",
       "      <td>NaN</td>\n",
       "      <td>8</td>\n",
       "      <td>2</td>\n",
       "      <td>CA. 2343</td>\n",
       "      <td>69.55</td>\n",
       "      <td>NaN</td>\n",
       "      <td>S</td>\n",
       "    </tr>\n",
       "    <tr>\n",
       "      <th>863</th>\n",
       "      <td>864</td>\n",
       "      <td>0.0</td>\n",
       "      <td>3</td>\n",
       "      <td>Sage, Miss. Dorothy Edith \"Dolly\"</td>\n",
       "      <td>female</td>\n",
       "      <td>NaN</td>\n",
       "      <td>8</td>\n",
       "      <td>2</td>\n",
       "      <td>CA. 2343</td>\n",
       "      <td>69.55</td>\n",
       "      <td>NaN</td>\n",
       "      <td>S</td>\n",
       "    </tr>\n",
       "    <tr>\n",
       "      <th>188</th>\n",
       "      <td>1080</td>\n",
       "      <td>NaN</td>\n",
       "      <td>3</td>\n",
       "      <td>Sage, Miss. Ada</td>\n",
       "      <td>female</td>\n",
       "      <td>NaN</td>\n",
       "      <td>8</td>\n",
       "      <td>2</td>\n",
       "      <td>CA. 2343</td>\n",
       "      <td>69.55</td>\n",
       "      <td>NaN</td>\n",
       "      <td>S</td>\n",
       "    </tr>\n",
       "    <tr>\n",
       "      <th>360</th>\n",
       "      <td>1252</td>\n",
       "      <td>NaN</td>\n",
       "      <td>3</td>\n",
       "      <td>Sage, Master. William Henry</td>\n",
       "      <td>male</td>\n",
       "      <td>14.5</td>\n",
       "      <td>8</td>\n",
       "      <td>2</td>\n",
       "      <td>CA. 2343</td>\n",
       "      <td>69.55</td>\n",
       "      <td>NaN</td>\n",
       "      <td>S</td>\n",
       "    </tr>\n",
       "  </tbody>\n",
       "</table>\n",
       "</div>"
      ],
      "text/plain": [
       "     PassengerId  Survived  Pclass                               Name     Sex  \\\n",
       "159          160       0.0       3         Sage, Master. Thomas Henry    male   \n",
       "180          181       0.0       3       Sage, Miss. Constance Gladys  female   \n",
       "201          202       0.0       3                Sage, Mr. Frederick    male   \n",
       "324          325       0.0       3           Sage, Mr. George John Jr    male   \n",
       "792          793       0.0       3            Sage, Miss. Stella Anna  female   \n",
       "846          847       0.0       3           Sage, Mr. Douglas Bullen    male   \n",
       "863          864       0.0       3  Sage, Miss. Dorothy Edith \"Dolly\"  female   \n",
       "188         1080       NaN       3                    Sage, Miss. Ada  female   \n",
       "360         1252       NaN       3        Sage, Master. William Henry    male   \n",
       "\n",
       "      Age  SibSp  Parch    Ticket   Fare Cabin Embarked  \n",
       "159   NaN      8      2  CA. 2343  69.55   NaN        S  \n",
       "180   NaN      8      2  CA. 2343  69.55   NaN        S  \n",
       "201   NaN      8      2  CA. 2343  69.55   NaN        S  \n",
       "324   NaN      8      2  CA. 2343  69.55   NaN        S  \n",
       "792   NaN      8      2  CA. 2343  69.55   NaN        S  \n",
       "846   NaN      8      2  CA. 2343  69.55   NaN        S  \n",
       "863   NaN      8      2  CA. 2343  69.55   NaN        S  \n",
       "188   NaN      8      2  CA. 2343  69.55   NaN        S  \n",
       "360  14.5      8      2  CA. 2343  69.55   NaN        S  "
      ]
     },
     "execution_count": 49,
     "metadata": {},
     "output_type": "execute_result"
    }
   ],
   "source": [
    "df[df['SibSp']==8]"
   ]
  },
  {
   "cell_type": "markdown",
   "id": "f560d449",
   "metadata": {
    "papermill": {
     "duration": 0.067944,
     "end_time": "2024-06-30T15:57:06.863514",
     "exception": false,
     "start_time": "2024-06-30T15:57:06.795570",
     "status": "completed"
    },
    "tags": []
   },
   "source": [
    "- Individual_Fare"
   ]
  },
  {
   "cell_type": "code",
   "execution_count": 50,
   "id": "d675095e",
   "metadata": {
    "execution": {
     "iopub.execute_input": "2024-06-30T15:57:06.975912Z",
     "iopub.status.busy": "2024-06-30T15:57:06.975359Z",
     "iopub.status.idle": "2024-06-30T15:57:06.985205Z",
     "shell.execute_reply": "2024-06-30T15:57:06.983548Z"
    },
    "papermill": {
     "duration": 0.068293,
     "end_time": "2024-06-30T15:57:06.988201",
     "exception": false,
     "start_time": "2024-06-30T15:57:06.919908",
     "status": "completed"
    },
    "tags": []
   },
   "outputs": [],
   "source": [
    "df['Individual_Fare']=df['Fare']/(df['SibSp']+df['Parch']+1)"
   ]
  },
  {
   "cell_type": "markdown",
   "id": "70cb92c0",
   "metadata": {
    "papermill": {
     "duration": 0.052093,
     "end_time": "2024-06-30T15:57:07.092344",
     "exception": false,
     "start_time": "2024-06-30T15:57:07.040251",
     "status": "completed"
    },
    "tags": []
   },
   "source": [
    "- Family Size "
   ]
  },
  {
   "cell_type": "code",
   "execution_count": 51,
   "id": "f995b8b2",
   "metadata": {
    "execution": {
     "iopub.execute_input": "2024-06-30T15:57:07.197222Z",
     "iopub.status.busy": "2024-06-30T15:57:07.196826Z",
     "iopub.status.idle": "2024-06-30T15:57:07.203622Z",
     "shell.execute_reply": "2024-06-30T15:57:07.202367Z"
    },
    "papermill": {
     "duration": 0.061971,
     "end_time": "2024-06-30T15:57:07.206231",
     "exception": false,
     "start_time": "2024-06-30T15:57:07.144260",
     "status": "completed"
    },
    "tags": []
   },
   "outputs": [],
   "source": [
    "df['Family_size']=df['SibSp']+df['Parch']+1"
   ]
  },
  {
   "cell_type": "markdown",
   "id": "97567eb1",
   "metadata": {
    "papermill": {
     "duration": 0.049958,
     "end_time": "2024-06-30T15:57:07.308530",
     "exception": false,
     "start_time": "2024-06-30T15:57:07.258572",
     "status": "completed"
    },
    "tags": []
   },
   "source": [
    "**Family type**\n",
    "1 -> alone\n",
    "2-4 -> Small\n",
    "5 -> Large"
   ]
  },
  {
   "cell_type": "code",
   "execution_count": 52,
   "id": "d9c73a0d",
   "metadata": {
    "execution": {
     "iopub.execute_input": "2024-06-30T15:57:07.413058Z",
     "iopub.status.busy": "2024-06-30T15:57:07.412646Z",
     "iopub.status.idle": "2024-06-30T15:57:07.419364Z",
     "shell.execute_reply": "2024-06-30T15:57:07.417937Z"
    },
    "papermill": {
     "duration": 0.06289,
     "end_time": "2024-06-30T15:57:07.422680",
     "exception": false,
     "start_time": "2024-06-30T15:57:07.359790",
     "status": "completed"
    },
    "tags": []
   },
   "outputs": [],
   "source": [
    "def familyType(num):\n",
    "    if num==1:\n",
    "        return 'Alone'\n",
    "    elif num==2:\n",
    "        return 'Small'\n",
    "    else:\n",
    "        return 'Large'"
   ]
  },
  {
   "cell_type": "code",
   "execution_count": 53,
   "id": "83292677",
   "metadata": {
    "execution": {
     "iopub.execute_input": "2024-06-30T15:57:07.525050Z",
     "iopub.status.busy": "2024-06-30T15:57:07.524675Z",
     "iopub.status.idle": "2024-06-30T15:57:07.532179Z",
     "shell.execute_reply": "2024-06-30T15:57:07.530622Z"
    },
    "papermill": {
     "duration": 0.062078,
     "end_time": "2024-06-30T15:57:07.534975",
     "exception": false,
     "start_time": "2024-06-30T15:57:07.472897",
     "status": "completed"
    },
    "tags": []
   },
   "outputs": [],
   "source": [
    "df['FamilyType']=df['Family_size'].apply(familyType)"
   ]
  },
  {
   "cell_type": "code",
   "execution_count": 54,
   "id": "94267f17",
   "metadata": {
    "execution": {
     "iopub.execute_input": "2024-06-30T15:57:07.638631Z",
     "iopub.status.busy": "2024-06-30T15:57:07.638206Z",
     "iopub.status.idle": "2024-06-30T15:57:07.660752Z",
     "shell.execute_reply": "2024-06-30T15:57:07.659572Z"
    },
    "papermill": {
     "duration": 0.077321,
     "end_time": "2024-06-30T15:57:07.663277",
     "exception": false,
     "start_time": "2024-06-30T15:57:07.585956",
     "status": "completed"
    },
    "tags": []
   },
   "outputs": [
    {
     "data": {
      "text/html": [
       "<div>\n",
       "<style scoped>\n",
       "    .dataframe tbody tr th:only-of-type {\n",
       "        vertical-align: middle;\n",
       "    }\n",
       "\n",
       "    .dataframe tbody tr th {\n",
       "        vertical-align: top;\n",
       "    }\n",
       "\n",
       "    .dataframe thead th {\n",
       "        text-align: right;\n",
       "    }\n",
       "</style>\n",
       "<table border=\"1\" class=\"dataframe\">\n",
       "  <thead>\n",
       "    <tr style=\"text-align: right;\">\n",
       "      <th></th>\n",
       "      <th>PassengerId</th>\n",
       "      <th>Survived</th>\n",
       "      <th>Pclass</th>\n",
       "      <th>Name</th>\n",
       "      <th>Sex</th>\n",
       "      <th>Age</th>\n",
       "      <th>SibSp</th>\n",
       "      <th>Parch</th>\n",
       "      <th>Ticket</th>\n",
       "      <th>Fare</th>\n",
       "      <th>Cabin</th>\n",
       "      <th>Embarked</th>\n",
       "      <th>Individual_Fare</th>\n",
       "      <th>Family_size</th>\n",
       "      <th>FamilyType</th>\n",
       "    </tr>\n",
       "  </thead>\n",
       "  <tbody>\n",
       "    <tr>\n",
       "      <th>0</th>\n",
       "      <td>1</td>\n",
       "      <td>0.0</td>\n",
       "      <td>3</td>\n",
       "      <td>Braund, Mr. Owen Harris</td>\n",
       "      <td>male</td>\n",
       "      <td>22.0</td>\n",
       "      <td>1</td>\n",
       "      <td>0</td>\n",
       "      <td>A/5 21171</td>\n",
       "      <td>7.2500</td>\n",
       "      <td>NaN</td>\n",
       "      <td>S</td>\n",
       "      <td>3.62500</td>\n",
       "      <td>2</td>\n",
       "      <td>Small</td>\n",
       "    </tr>\n",
       "    <tr>\n",
       "      <th>1</th>\n",
       "      <td>2</td>\n",
       "      <td>1.0</td>\n",
       "      <td>1</td>\n",
       "      <td>Cumings, Mrs. John Bradley (Florence Briggs Th...</td>\n",
       "      <td>female</td>\n",
       "      <td>38.0</td>\n",
       "      <td>1</td>\n",
       "      <td>0</td>\n",
       "      <td>PC 17599</td>\n",
       "      <td>71.2833</td>\n",
       "      <td>C85</td>\n",
       "      <td>C</td>\n",
       "      <td>35.64165</td>\n",
       "      <td>2</td>\n",
       "      <td>Small</td>\n",
       "    </tr>\n",
       "    <tr>\n",
       "      <th>2</th>\n",
       "      <td>3</td>\n",
       "      <td>1.0</td>\n",
       "      <td>3</td>\n",
       "      <td>Heikkinen, Miss. Laina</td>\n",
       "      <td>female</td>\n",
       "      <td>26.0</td>\n",
       "      <td>0</td>\n",
       "      <td>0</td>\n",
       "      <td>STON/O2. 3101282</td>\n",
       "      <td>7.9250</td>\n",
       "      <td>NaN</td>\n",
       "      <td>S</td>\n",
       "      <td>7.92500</td>\n",
       "      <td>1</td>\n",
       "      <td>Alone</td>\n",
       "    </tr>\n",
       "    <tr>\n",
       "      <th>3</th>\n",
       "      <td>4</td>\n",
       "      <td>1.0</td>\n",
       "      <td>1</td>\n",
       "      <td>Futrelle, Mrs. Jacques Heath (Lily May Peel)</td>\n",
       "      <td>female</td>\n",
       "      <td>35.0</td>\n",
       "      <td>1</td>\n",
       "      <td>0</td>\n",
       "      <td>113803</td>\n",
       "      <td>53.1000</td>\n",
       "      <td>C123</td>\n",
       "      <td>S</td>\n",
       "      <td>26.55000</td>\n",
       "      <td>2</td>\n",
       "      <td>Small</td>\n",
       "    </tr>\n",
       "    <tr>\n",
       "      <th>4</th>\n",
       "      <td>5</td>\n",
       "      <td>0.0</td>\n",
       "      <td>3</td>\n",
       "      <td>Allen, Mr. William Henry</td>\n",
       "      <td>male</td>\n",
       "      <td>35.0</td>\n",
       "      <td>0</td>\n",
       "      <td>0</td>\n",
       "      <td>373450</td>\n",
       "      <td>8.0500</td>\n",
       "      <td>NaN</td>\n",
       "      <td>S</td>\n",
       "      <td>8.05000</td>\n",
       "      <td>1</td>\n",
       "      <td>Alone</td>\n",
       "    </tr>\n",
       "  </tbody>\n",
       "</table>\n",
       "</div>"
      ],
      "text/plain": [
       "   PassengerId  Survived  Pclass  \\\n",
       "0            1       0.0       3   \n",
       "1            2       1.0       1   \n",
       "2            3       1.0       3   \n",
       "3            4       1.0       1   \n",
       "4            5       0.0       3   \n",
       "\n",
       "                                                Name     Sex   Age  SibSp  \\\n",
       "0                            Braund, Mr. Owen Harris    male  22.0      1   \n",
       "1  Cumings, Mrs. John Bradley (Florence Briggs Th...  female  38.0      1   \n",
       "2                             Heikkinen, Miss. Laina  female  26.0      0   \n",
       "3       Futrelle, Mrs. Jacques Heath (Lily May Peel)  female  35.0      1   \n",
       "4                           Allen, Mr. William Henry    male  35.0      0   \n",
       "\n",
       "   Parch            Ticket     Fare Cabin Embarked  Individual_Fare  \\\n",
       "0      0         A/5 21171   7.2500   NaN        S          3.62500   \n",
       "1      0          PC 17599  71.2833   C85        C         35.64165   \n",
       "2      0  STON/O2. 3101282   7.9250   NaN        S          7.92500   \n",
       "3      0            113803  53.1000  C123        S         26.55000   \n",
       "4      0            373450   8.0500   NaN        S          8.05000   \n",
       "\n",
       "   Family_size FamilyType  \n",
       "0            2      Small  \n",
       "1            2      Small  \n",
       "2            1      Alone  \n",
       "3            2      Small  \n",
       "4            1      Alone  "
      ]
     },
     "execution_count": 54,
     "metadata": {},
     "output_type": "execute_result"
    }
   ],
   "source": [
    "df.head()"
   ]
  },
  {
   "cell_type": "markdown",
   "id": "63c07033",
   "metadata": {
    "papermill": {
     "duration": 0.050018,
     "end_time": "2024-06-30T15:57:07.764823",
     "exception": false,
     "start_time": "2024-06-30T15:57:07.714805",
     "status": "completed"
    },
    "tags": []
   },
   "source": [
    "- Surname\n",
    "- Title"
   ]
  },
  {
   "cell_type": "code",
   "execution_count": 55,
   "id": "d47a071a",
   "metadata": {
    "execution": {
     "iopub.execute_input": "2024-06-30T15:57:07.872421Z",
     "iopub.status.busy": "2024-06-30T15:57:07.871260Z",
     "iopub.status.idle": "2024-06-30T15:57:07.882238Z",
     "shell.execute_reply": "2024-06-30T15:57:07.880871Z"
    },
    "papermill": {
     "duration": 0.06905,
     "end_time": "2024-06-30T15:57:07.885194",
     "exception": false,
     "start_time": "2024-06-30T15:57:07.816144",
     "status": "completed"
    },
    "tags": []
   },
   "outputs": [],
   "source": [
    "df['Surname']=df['Name'].str.split(',').str.get(0)"
   ]
  },
  {
   "cell_type": "code",
   "execution_count": 56,
   "id": "75f7355e",
   "metadata": {
    "execution": {
     "iopub.execute_input": "2024-06-30T15:57:07.993094Z",
     "iopub.status.busy": "2024-06-30T15:57:07.992672Z",
     "iopub.status.idle": "2024-06-30T15:57:08.011934Z",
     "shell.execute_reply": "2024-06-30T15:57:08.009721Z"
    },
    "papermill": {
     "duration": 0.076437,
     "end_time": "2024-06-30T15:57:08.015143",
     "exception": false,
     "start_time": "2024-06-30T15:57:07.938706",
     "status": "completed"
    },
    "tags": []
   },
   "outputs": [],
   "source": [
    "df['Titles']=df['Name'].str.split(',').str.get(1).str.strip().str.split(' ').str.get(0)"
   ]
  },
  {
   "cell_type": "code",
   "execution_count": 57,
   "id": "bebf692b",
   "metadata": {
    "execution": {
     "iopub.execute_input": "2024-06-30T15:57:08.122417Z",
     "iopub.status.busy": "2024-06-30T15:57:08.122027Z",
     "iopub.status.idle": "2024-06-30T15:57:08.133160Z",
     "shell.execute_reply": "2024-06-30T15:57:08.131594Z"
    },
    "papermill": {
     "duration": 0.067636,
     "end_time": "2024-06-30T15:57:08.135836",
     "exception": false,
     "start_time": "2024-06-30T15:57:08.068200",
     "status": "completed"
    },
    "tags": []
   },
   "outputs": [
    {
     "data": {
      "text/plain": [
       "Titles\n",
       "Mr.          757\n",
       "Miss.        260\n",
       "Mrs.         197\n",
       "Master.       61\n",
       "Rev.           8\n",
       "Dr.            8\n",
       "Col.           4\n",
       "Mlle.          2\n",
       "Major.         2\n",
       "Ms.            2\n",
       "Lady.          1\n",
       "Sir.           1\n",
       "Mme.           1\n",
       "Don.           1\n",
       "Capt.          1\n",
       "the            1\n",
       "Jonkheer.      1\n",
       "Dona.          1\n",
       "Name: count, dtype: int64"
      ]
     },
     "execution_count": 57,
     "metadata": {},
     "output_type": "execute_result"
    }
   ],
   "source": [
    "df['Titles'].value_counts()"
   ]
  },
  {
   "cell_type": "code",
   "execution_count": 58,
   "id": "6bc680cc",
   "metadata": {
    "execution": {
     "iopub.execute_input": "2024-06-30T15:57:08.241387Z",
     "iopub.status.busy": "2024-06-30T15:57:08.240976Z",
     "iopub.status.idle": "2024-06-30T15:57:08.250553Z",
     "shell.execute_reply": "2024-06-30T15:57:08.249436Z"
    },
    "papermill": {
     "duration": 0.065784,
     "end_time": "2024-06-30T15:57:08.253155",
     "exception": false,
     "start_time": "2024-06-30T15:57:08.187371",
     "status": "completed"
    },
    "tags": []
   },
   "outputs": [],
   "source": [
    "df['Titles']=df['Titles'].replace(['Jonkheer.','the','Capt.','Don.','Major.','Col.','Dr.','Rev.'],'Others')"
   ]
  },
  {
   "cell_type": "code",
   "execution_count": 59,
   "id": "906f84b2",
   "metadata": {
    "execution": {
     "iopub.execute_input": "2024-06-30T15:57:08.356069Z",
     "iopub.status.busy": "2024-06-30T15:57:08.355664Z",
     "iopub.status.idle": "2024-06-30T15:57:08.366600Z",
     "shell.execute_reply": "2024-06-30T15:57:08.365278Z"
    },
    "papermill": {
     "duration": 0.065882,
     "end_time": "2024-06-30T15:57:08.369403",
     "exception": false,
     "start_time": "2024-06-30T15:57:08.303521",
     "status": "completed"
    },
    "tags": []
   },
   "outputs": [
    {
     "data": {
      "text/plain": [
       "Titles\n",
       "Mr.        757\n",
       "Miss.      260\n",
       "Mrs.       197\n",
       "Master.     61\n",
       "Others      26\n",
       "Ms.          2\n",
       "Mlle.        2\n",
       "Mme.         1\n",
       "Lady.        1\n",
       "Sir.         1\n",
       "Dona.        1\n",
       "Name: count, dtype: int64"
      ]
     },
     "execution_count": 59,
     "metadata": {},
     "output_type": "execute_result"
    }
   ],
   "source": [
    "df['Titles'].value_counts()"
   ]
  },
  {
   "cell_type": "code",
   "execution_count": 60,
   "id": "e584c712",
   "metadata": {
    "execution": {
     "iopub.execute_input": "2024-06-30T15:57:08.474884Z",
     "iopub.status.busy": "2024-06-30T15:57:08.474483Z",
     "iopub.status.idle": "2024-06-30T15:57:08.482946Z",
     "shell.execute_reply": "2024-06-30T15:57:08.481892Z"
    },
    "papermill": {
     "duration": 0.064101,
     "end_time": "2024-06-30T15:57:08.485533",
     "exception": false,
     "start_time": "2024-06-30T15:57:08.421432",
     "status": "completed"
    },
    "tags": []
   },
   "outputs": [
    {
     "data": {
      "text/plain": [
       "0.774637127578304"
      ]
     },
     "execution_count": 60,
     "metadata": {},
     "output_type": "execute_result"
    }
   ],
   "source": [
    "(df['Cabin'].isnull().sum())/len(df['Cabin'])"
   ]
  },
  {
   "cell_type": "code",
   "execution_count": 61,
   "id": "7bd5742c",
   "metadata": {
    "execution": {
     "iopub.execute_input": "2024-06-30T15:57:08.589757Z",
     "iopub.status.busy": "2024-06-30T15:57:08.589329Z",
     "iopub.status.idle": "2024-06-30T15:57:08.600722Z",
     "shell.execute_reply": "2024-06-30T15:57:08.599476Z"
    },
    "papermill": {
     "duration": 0.066669,
     "end_time": "2024-06-30T15:57:08.603405",
     "exception": false,
     "start_time": "2024-06-30T15:57:08.536736",
     "status": "completed"
    },
    "tags": []
   },
   "outputs": [
    {
     "data": {
      "text/plain": [
       "Cabin\n",
       "C23 C25 C27        6\n",
       "G6                 5\n",
       "B57 B59 B63 B66    5\n",
       "C22 C26            4\n",
       "F33                4\n",
       "                  ..\n",
       "A14                1\n",
       "E63                1\n",
       "E12                1\n",
       "E38                1\n",
       "C105               1\n",
       "Name: count, Length: 186, dtype: int64"
      ]
     },
     "execution_count": 61,
     "metadata": {},
     "output_type": "execute_result"
    }
   ],
   "source": [
    "df['Cabin'].value_counts()"
   ]
  },
  {
   "cell_type": "markdown",
   "id": "29736343",
   "metadata": {
    "papermill": {
     "duration": 0.05328,
     "end_time": "2024-06-30T15:57:08.708215",
     "exception": false,
     "start_time": "2024-06-30T15:57:08.654935",
     "status": "completed"
    },
    "tags": []
   },
   "source": [
    "- Fill values of cabin"
   ]
  },
  {
   "cell_type": "code",
   "execution_count": 62,
   "id": "8ecd4e41",
   "metadata": {
    "execution": {
     "iopub.execute_input": "2024-06-30T15:57:08.818518Z",
     "iopub.status.busy": "2024-06-30T15:57:08.818059Z",
     "iopub.status.idle": "2024-06-30T15:57:08.825911Z",
     "shell.execute_reply": "2024-06-30T15:57:08.824621Z"
    },
    "papermill": {
     "duration": 0.064297,
     "end_time": "2024-06-30T15:57:08.828565",
     "exception": false,
     "start_time": "2024-06-30T15:57:08.764268",
     "status": "completed"
    },
    "tags": []
   },
   "outputs": [
    {
     "name": "stderr",
     "output_type": "stream",
     "text": [
      "/tmp/ipykernel_18/3032343573.py:1: FutureWarning: A value is trying to be set on a copy of a DataFrame or Series through chained assignment using an inplace method.\n",
      "The behavior will change in pandas 3.0. This inplace method will never work because the intermediate object on which we are setting values always behaves as a copy.\n",
      "\n",
      "For example, when doing 'df[col].method(value, inplace=True)', try using 'df.method({col: value}, inplace=True)' or df[col] = df[col].method(value) instead, to perform the operation inplace on the original object.\n",
      "\n",
      "\n",
      "  df['Cabin'].fillna('M',inplace=True)\n"
     ]
    }
   ],
   "source": [
    "df['Cabin'].fillna('M',inplace=True)"
   ]
  },
  {
   "cell_type": "code",
   "execution_count": 63,
   "id": "38ff5a49",
   "metadata": {
    "execution": {
     "iopub.execute_input": "2024-06-30T15:57:08.937438Z",
     "iopub.status.busy": "2024-06-30T15:57:08.937062Z",
     "iopub.status.idle": "2024-06-30T15:57:08.949189Z",
     "shell.execute_reply": "2024-06-30T15:57:08.947487Z"
    },
    "papermill": {
     "duration": 0.069437,
     "end_time": "2024-06-30T15:57:08.952355",
     "exception": false,
     "start_time": "2024-06-30T15:57:08.882918",
     "status": "completed"
    },
    "tags": []
   },
   "outputs": [
    {
     "data": {
      "text/plain": [
       "Cabin\n",
       "M                  1014\n",
       "C23 C25 C27           6\n",
       "B57 B59 B63 B66       5\n",
       "G6                    5\n",
       "F33                   4\n",
       "                   ... \n",
       "A14                   1\n",
       "E63                   1\n",
       "E12                   1\n",
       "E38                   1\n",
       "C105                  1\n",
       "Name: count, Length: 187, dtype: int64"
      ]
     },
     "execution_count": 63,
     "metadata": {},
     "output_type": "execute_result"
    }
   ],
   "source": [
    "df['Cabin'].value_counts()"
   ]
  },
  {
   "cell_type": "markdown",
   "id": "7ef43e44",
   "metadata": {
    "papermill": {
     "duration": 0.053987,
     "end_time": "2024-06-30T15:57:09.059922",
     "exception": false,
     "start_time": "2024-06-30T15:57:09.005935",
     "status": "completed"
    },
    "tags": []
   },
   "source": [
    "- There are Deck in Titanic"
   ]
  },
  {
   "cell_type": "code",
   "execution_count": 64,
   "id": "70e9491c",
   "metadata": {
    "execution": {
     "iopub.execute_input": "2024-06-30T15:57:09.169247Z",
     "iopub.status.busy": "2024-06-30T15:57:09.168427Z",
     "iopub.status.idle": "2024-06-30T15:57:09.177318Z",
     "shell.execute_reply": "2024-06-30T15:57:09.175775Z"
    },
    "papermill": {
     "duration": 0.0694,
     "end_time": "2024-06-30T15:57:09.180388",
     "exception": false,
     "start_time": "2024-06-30T15:57:09.110988",
     "status": "completed"
    },
    "tags": []
   },
   "outputs": [],
   "source": [
    "df['Deck']=df['Cabin'].str.get(0)"
   ]
  },
  {
   "cell_type": "code",
   "execution_count": 65,
   "id": "4eedcb21",
   "metadata": {
    "execution": {
     "iopub.execute_input": "2024-06-30T15:57:09.287590Z",
     "iopub.status.busy": "2024-06-30T15:57:09.287144Z",
     "iopub.status.idle": "2024-06-30T15:57:09.297681Z",
     "shell.execute_reply": "2024-06-30T15:57:09.296449Z"
    },
    "papermill": {
     "duration": 0.067556,
     "end_time": "2024-06-30T15:57:09.300268",
     "exception": false,
     "start_time": "2024-06-30T15:57:09.232712",
     "status": "completed"
    },
    "tags": []
   },
   "outputs": [
    {
     "data": {
      "text/plain": [
       "Deck\n",
       "M    1014\n",
       "C      94\n",
       "B      65\n",
       "D      46\n",
       "E      41\n",
       "A      22\n",
       "F      21\n",
       "G       5\n",
       "T       1\n",
       "Name: count, dtype: int64"
      ]
     },
     "execution_count": 65,
     "metadata": {},
     "output_type": "execute_result"
    }
   ],
   "source": [
    "df['Deck'].value_counts()"
   ]
  },
  {
   "cell_type": "markdown",
   "id": "def9cc59",
   "metadata": {
    "papermill": {
     "duration": 0.056042,
     "end_time": "2024-06-30T15:57:09.410208",
     "exception": false,
     "start_time": "2024-06-30T15:57:09.354166",
     "status": "completed"
    },
    "tags": []
   },
   "source": [
    "<div style=\"text-align: center;\">\n",
    "    <h2 style=\"color: #007BFF;\">Exploratory Data Analysis after Feature Engineering</h2>\n",
    "</div>"
   ]
  },
  {
   "cell_type": "markdown",
   "id": "997eaab5",
   "metadata": {
    "papermill": {
     "duration": 0.051681,
     "end_time": "2024-06-30T15:57:09.514771",
     "exception": false,
     "start_time": "2024-06-30T15:57:09.463090",
     "status": "completed"
    },
    "tags": []
   },
   "source": [
    "<div style=\"text-align: center;\">\n",
    "    <h2 style=\"color: #007BFF;\">Family Type wise Survived Passengers </h2>\n",
    "</div>\n"
   ]
  },
  {
   "cell_type": "code",
   "execution_count": 66,
   "id": "e7d06aea",
   "metadata": {
    "execution": {
     "iopub.execute_input": "2024-06-30T15:57:09.620006Z",
     "iopub.status.busy": "2024-06-30T15:57:09.619608Z",
     "iopub.status.idle": "2024-06-30T15:57:09.635851Z",
     "shell.execute_reply": "2024-06-30T15:57:09.634621Z"
    },
    "papermill": {
     "duration": 0.071911,
     "end_time": "2024-06-30T15:57:09.638898",
     "exception": false,
     "start_time": "2024-06-30T15:57:09.566987",
     "status": "completed"
    },
    "tags": []
   },
   "outputs": [],
   "source": [
    "tempDf=pd.crosstab(df['Survived'],df['FamilyType'],normalize='columns')*100"
   ]
  },
  {
   "cell_type": "code",
   "execution_count": 67,
   "id": "9670b1b2",
   "metadata": {
    "execution": {
     "iopub.execute_input": "2024-06-30T15:57:09.747526Z",
     "iopub.status.busy": "2024-06-30T15:57:09.747069Z",
     "iopub.status.idle": "2024-06-30T15:57:10.119802Z",
     "shell.execute_reply": "2024-06-30T15:57:10.118559Z"
    },
    "papermill": {
     "duration": 0.430819,
     "end_time": "2024-06-30T15:57:10.122737",
     "exception": false,
     "start_time": "2024-06-30T15:57:09.691918",
     "status": "completed"
    },
    "tags": []
   },
   "outputs": [
    {
     "data": {
      "image/png": "[encoded data removed]",
      "text/plain": [
       "<Figure size 640x480 with 1 Axes>"
      ]
     },
     "metadata": {},
     "output_type": "display_data"
    }
   ],
   "source": [
    "tempDf.plot(kind='bar',stacked=True)\n",
    "plt.title(\"FamilyType wise Survived passengers\")\n",
    "plt.show()"
   ]
  },
  {
   "cell_type": "markdown",
   "id": "3ca99a67",
   "metadata": {
    "papermill": {
     "duration": 0.052396,
     "end_time": "2024-06-30T15:57:10.230643",
     "exception": false,
     "start_time": "2024-06-30T15:57:10.178247",
     "status": "completed"
    },
    "tags": []
   },
   "source": [
    "<div style=\"text-align: center;\">\n",
    "    <h2 style=\"color: #007BFF;\">Title  wise Survived Passengers </h2>\n",
    "</div>\n"
   ]
  },
  {
   "cell_type": "code",
   "execution_count": 68,
   "id": "36635c41",
   "metadata": {
    "execution": {
     "iopub.execute_input": "2024-06-30T15:57:10.339357Z",
     "iopub.status.busy": "2024-06-30T15:57:10.338953Z",
     "iopub.status.idle": "2024-06-30T15:57:10.348117Z",
     "shell.execute_reply": "2024-06-30T15:57:10.346803Z"
    },
    "papermill": {
     "duration": 0.069055,
     "end_time": "2024-06-30T15:57:10.351154",
     "exception": false,
     "start_time": "2024-06-30T15:57:10.282099",
     "status": "completed"
    },
    "tags": []
   },
   "outputs": [],
   "source": [
    "tempdf=df[df['Titles'].isin(['Mr.','Miss.','Mrs.','Master.','Others'])]"
   ]
  },
  {
   "cell_type": "code",
   "execution_count": 69,
   "id": "18281abc",
   "metadata": {
    "execution": {
     "iopub.execute_input": "2024-06-30T15:57:10.461999Z",
     "iopub.status.busy": "2024-06-30T15:57:10.461601Z",
     "iopub.status.idle": "2024-06-30T15:57:10.481006Z",
     "shell.execute_reply": "2024-06-30T15:57:10.479802Z"
    },
    "papermill": {
     "duration": 0.078166,
     "end_time": "2024-06-30T15:57:10.484772",
     "exception": false,
     "start_time": "2024-06-30T15:57:10.406606",
     "status": "completed"
    },
    "tags": []
   },
   "outputs": [],
   "source": [
    "tempDf=pd.crosstab(tempdf['Survived'],tempdf['Titles'],normalize='columns')*100"
   ]
  },
  {
   "cell_type": "code",
   "execution_count": 70,
   "id": "66db2804",
   "metadata": {
    "execution": {
     "iopub.execute_input": "2024-06-30T15:57:10.592054Z",
     "iopub.status.busy": "2024-06-30T15:57:10.591655Z",
     "iopub.status.idle": "2024-06-30T15:57:10.932646Z",
     "shell.execute_reply": "2024-06-30T15:57:10.931373Z"
    },
    "papermill": {
     "duration": 0.397818,
     "end_time": "2024-06-30T15:57:10.935808",
     "exception": false,
     "start_time": "2024-06-30T15:57:10.537990",
     "status": "completed"
    },
    "tags": []
   },
   "outputs": [
    {
     "data": {
      "image/png": "[encoded data removed]",
      "text/plain": [
       "<Figure size 640x480 with 1 Axes>"
      ]
     },
     "metadata": {},
     "output_type": "display_data"
    }
   ],
   "source": [
    "tempDf.plot(kind='bar',stacked=True)\n",
    "plt.title(\"Title wise Survived passengers\")\n",
    "plt.show()"
   ]
  },
  {
   "cell_type": "markdown",
   "id": "d2fb84e5",
   "metadata": {
    "papermill": {
     "duration": 0.05394,
     "end_time": "2024-06-30T15:57:11.043852",
     "exception": false,
     "start_time": "2024-06-30T15:57:10.989912",
     "status": "completed"
    },
    "tags": []
   },
   "source": []
  },
  {
   "cell_type": "code",
   "execution_count": 71,
   "id": "dead80a7",
   "metadata": {
    "execution": {
     "iopub.execute_input": "2024-06-30T15:57:11.152355Z",
     "iopub.status.busy": "2024-06-30T15:57:11.151309Z",
     "iopub.status.idle": "2024-06-30T15:57:11.165804Z",
     "shell.execute_reply": "2024-06-30T15:57:11.164630Z"
    },
    "papermill": {
     "duration": 0.072344,
     "end_time": "2024-06-30T15:57:11.168913",
     "exception": false,
     "start_time": "2024-06-30T15:57:11.096569",
     "status": "completed"
    },
    "tags": []
   },
   "outputs": [],
   "source": [
    "cabinDf=pd.crosstab(df['Deck'],df['Pclass'])"
   ]
  },
  {
   "cell_type": "code",
   "execution_count": 72,
   "id": "252cb92c",
   "metadata": {
    "execution": {
     "iopub.execute_input": "2024-06-30T15:57:11.282400Z",
     "iopub.status.busy": "2024-06-30T15:57:11.281372Z",
     "iopub.status.idle": "2024-06-30T15:57:11.710772Z",
     "shell.execute_reply": "2024-06-30T15:57:11.709145Z"
    },
    "papermill": {
     "duration": 0.490653,
     "end_time": "2024-06-30T15:57:11.713919",
     "exception": false,
     "start_time": "2024-06-30T15:57:11.223266",
     "status": "completed"
    },
    "tags": []
   },
   "outputs": [
    {
     "data": {
      "image/png": "[encoded data removed]",
      "text/plain": [
       "<Figure size 1000x600 with 1 Axes>"
      ]
     },
     "metadata": {},
     "output_type": "display_data"
    }
   ],
   "source": [
    "cabinDf.plot(kind='bar', figsize=(10, 6))\n",
    "plt.xlabel('Deck')\n",
    "plt.ylabel('Count')\n",
    "plt.title('Number of Passengers by Deck and Pclass')\n",
    "plt.show()"
   ]
  },
  {
   "cell_type": "markdown",
   "id": "84f5f6d1",
   "metadata": {
    "papermill": {
     "duration": 0.054614,
     "end_time": "2024-06-30T15:57:11.825257",
     "exception": false,
     "start_time": "2024-06-30T15:57:11.770643",
     "status": "completed"
    },
    "tags": []
   },
   "source": [
    "<div style=\"text-align: center;\">\n",
    "    <h2 style=\"color: #007BFF;\">Deck  wise Survived Passengers </h2>\n",
    "</div>\n"
   ]
  },
  {
   "cell_type": "code",
   "execution_count": 73,
   "id": "839837a9",
   "metadata": {
    "execution": {
     "iopub.execute_input": "2024-06-30T15:57:11.940047Z",
     "iopub.status.busy": "2024-06-30T15:57:11.939636Z",
     "iopub.status.idle": "2024-06-30T15:57:12.403038Z",
     "shell.execute_reply": "2024-06-30T15:57:12.401573Z"
    },
    "papermill": {
     "duration": 0.526082,
     "end_time": "2024-06-30T15:57:12.406128",
     "exception": false,
     "start_time": "2024-06-30T15:57:11.880046",
     "status": "completed"
    },
    "tags": []
   },
   "outputs": [
    {
     "data": {
      "image/png": "[encoded data removed]",
      "text/plain": [
       "<Figure size 640x480 with 1 Axes>"
      ]
     },
     "metadata": {},
     "output_type": "display_data"
    }
   ],
   "source": [
    "pd.crosstab(df['Deck'],df['Survived'],normalize=\"index\").plot(kind='bar',stacked=True)\n",
    "plt.show()"
   ]
  },
  {
   "cell_type": "markdown",
   "id": "34bee232",
   "metadata": {
    "papermill": {
     "duration": 0.066475,
     "end_time": "2024-06-30T15:57:12.528890",
     "exception": false,
     "start_time": "2024-06-30T15:57:12.462415",
     "status": "completed"
    },
    "tags": []
   },
   "source": [
    "<div style=\"text-align: center;\">\n",
    "    <h2 style=\"color: #007BFF;\">Age vs Fare with Survived</h2>\n",
    "</div>\n"
   ]
  },
  {
   "cell_type": "code",
   "execution_count": 74,
   "id": "a86a1f28",
   "metadata": {
    "execution": {
     "iopub.execute_input": "2024-06-30T15:57:12.650227Z",
     "iopub.status.busy": "2024-06-30T15:57:12.649791Z",
     "iopub.status.idle": "2024-06-30T15:57:13.121403Z",
     "shell.execute_reply": "2024-06-30T15:57:13.120077Z"
    },
    "papermill": {
     "duration": 0.534556,
     "end_time": "2024-06-30T15:57:13.124769",
     "exception": false,
     "start_time": "2024-06-30T15:57:12.590213",
     "status": "completed"
    },
    "tags": []
   },
   "outputs": [
    {
     "data": {
      "image/png": "[encoded data removed]",
      "text/plain": [
       "<Figure size 1000x600 with 1 Axes>"
      ]
     },
     "metadata": {},
     "output_type": "display_data"
    }
   ],
   "source": [
    "plt.figure(figsize=(10, 6))\n",
    "sns.scatterplot(x='Age', y='Fare', hue='Survived', data=df, palette='coolwarm', alpha=0.7)\n",
    "\n",
    "# Add labels and title\n",
    "plt.xlabel('Age')\n",
    "plt.ylabel('Fare')\n",
    "plt.title('Scatter Plot of Age vs Fare with Survived as Hue')\n",
    "\n",
    "# Show plot\n",
    "plt.legend(title='Survived')\n",
    "plt.show()"
   ]
  },
  {
   "cell_type": "markdown",
   "id": "94713a8e",
   "metadata": {
    "papermill": {
     "duration": 0.055375,
     "end_time": "2024-06-30T15:57:13.236759",
     "exception": false,
     "start_time": "2024-06-30T15:57:13.181384",
     "status": "completed"
    },
    "tags": []
   },
   "source": [
    "<div style=\"text-align: center;\">\n",
    "    <h2 style=\"color: #007BFF;\">Age vs Family_size with Survived</h2>\n",
    "</div>\n"
   ]
  },
  {
   "cell_type": "code",
   "execution_count": 75,
   "id": "62c4168c",
   "metadata": {
    "execution": {
     "iopub.execute_input": "2024-06-30T15:57:13.353316Z",
     "iopub.status.busy": "2024-06-30T15:57:13.352922Z",
     "iopub.status.idle": "2024-06-30T15:57:13.849194Z",
     "shell.execute_reply": "2024-06-30T15:57:13.847817Z"
    },
    "papermill": {
     "duration": 0.558448,
     "end_time": "2024-06-30T15:57:13.851969",
     "exception": false,
     "start_time": "2024-06-30T15:57:13.293521",
     "status": "completed"
    },
    "tags": []
   },
   "outputs": [
    {
     "data": {
      "image/png": "[encoded data removed]",
      "text/plain": [
       "<Figure size 1000x600 with 1 Axes>"
      ]
     },
     "metadata": {},
     "output_type": "display_data"
    }
   ],
   "source": [
    "plt.figure(figsize=(10, 6))\n",
    "sns.scatterplot(x='Family_size', y='Age', hue='Survived', data=df, palette='coolwarm', alpha=0.7)\n",
    "\n",
    "# Add labels and title\n",
    "plt.xlabel('Age')\n",
    "plt.ylabel('FamilySzie')\n",
    "plt.title('Scatter Plot of Age vs FamilySize with Survived as Hue')\n",
    "\n",
    "# Show plot\n",
    "plt.legend(title='Survived')\n",
    "plt.show()"
   ]
  },
  {
   "cell_type": "markdown",
   "id": "f9c64b52",
   "metadata": {
    "papermill": {
     "duration": 0.061126,
     "end_time": "2024-06-30T15:57:13.976424",
     "exception": false,
     "start_time": "2024-06-30T15:57:13.915298",
     "status": "completed"
    },
    "tags": []
   },
   "source": [
    "<div style=\"text-align: center;\">\n",
    "    <h2 style=\"color: #007BFF;\">Individual Fare vs Sex with Survived </h2>\n",
    "</div>\n",
    "\n"
   ]
  },
  {
   "cell_type": "code",
   "execution_count": 76,
   "id": "dd6e699e",
   "metadata": {
    "execution": {
     "iopub.execute_input": "2024-06-30T15:57:14.103843Z",
     "iopub.status.busy": "2024-06-30T15:57:14.103277Z",
     "iopub.status.idle": "2024-06-30T15:57:14.561036Z",
     "shell.execute_reply": "2024-06-30T15:57:14.559749Z"
    },
    "papermill": {
     "duration": 0.525222,
     "end_time": "2024-06-30T15:57:14.563929",
     "exception": false,
     "start_time": "2024-06-30T15:57:14.038707",
     "status": "completed"
    },
    "tags": []
   },
   "outputs": [
    {
     "data": {
      "image/png": "[encoded data removed]",
      "text/plain": [
       "<Figure size 1000x600 with 1 Axes>"
      ]
     },
     "metadata": {},
     "output_type": "display_data"
    }
   ],
   "source": [
    "plt.figure(figsize=(10, 6))\n",
    "sns.barplot(x='Individual_Fare', y='Sex', hue='Survived', data=df, palette='viridis')\n",
    "plt.xlabel('Individual Fare')\n",
    "plt.ylabel('Sex')\n",
    "plt.title('Bar Plot of Individual Fare vs Sex with Survived as Hue')\n",
    "plt.legend(title='Survived', loc='upper right')\n",
    "plt.show()"
   ]
  }
 ],
 "metadata": {
  "kaggle": {
   "accelerator": "none",
   "dataSources": [
    {
     "databundleVersionId": 26502,
     "sourceId": 3136,
     "sourceType": "competition"
    }
   ],
   "dockerImageVersionId": 30732,
   "isGpuEnabled": false,
   "isInternetEnabled": true,
   "language": "python",
   "sourceType": "notebook"
  },
  "kernelspec": {
   "display_name": "Python 3",
   "language": "python",
   "name": "python3"
  },
  "language_info": {
   "codemirror_mode": {
    "name": "ipython",
    "version": 3
   },
   "file_extension": ".py",
   "mimetype": "text/x-python",
   "name": "python",
   "nbconvert_exporter": "python",
   "pygments_lexer": "ipython3",
   "version": "3.10.13"
  },
  "papermill": {
   "default_parameters": {},
   "duration": 26.827281,
   "end_time": "2024-06-30T15:57:15.349028",
   "environment_variables": {},
   "exception": null,
   "input_path": "__notebook__.ipynb",
   "output_path": "__notebook__.ipynb",
   "parameters": {},
   "start_time": "2024-06-30T15:56:48.521747",
   "version": "2.5.0"
  }
 },
 "nbformat": 4,
 "nbformat_minor": 5
}
